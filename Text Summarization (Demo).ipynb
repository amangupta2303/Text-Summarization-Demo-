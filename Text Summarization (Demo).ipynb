{
 "cells": [
  {
   "cell_type": "code",
   "execution_count": 1,
   "id": "d74bd091",
   "metadata": {},
   "outputs": [],
   "source": [
    "import nltk\n",
    "from nltk.corpus import stopwords\n",
    "from nltk.tokenize import word_tokenize, sent_tokenize\n",
    "from string import punctuation"
   ]
  },
  {
   "cell_type": "code",
   "execution_count": 2,
   "id": "000c9370",
   "metadata": {
    "scrolled": true
   },
   "outputs": [
    {
     "data": {
      "text/plain": [
       "\"India, officially the Republic of India (Hindi: BhÄ\\x81rat Gaá¹\\x87arÄ\\x81jya),[23] is a country in South Asia. It is the second-most populous country, the seventh-largest country by area, and the most populous democracy in the world. Bounded by the Indian Ocean on the south, the Arabian Sea on the southwest, and the Bay of Bengal on the southeast, it shares land borders with Pakistan to the west;[f] China, Nepal, and Bhutan to the north; and Bangladesh and Myanmar to the east. In the Indian Ocean, India is in the vicinity of Sri Lanka and the Maldives; its Andaman and Nicobar Islands share a maritime border with Thailand and Indonesia. Modern humans arrived on the Indian subcontinent from Africa no later than 55,000 years ago.[24] Their long occupation, initially in varying forms of isolation as hunter-gatherers, has made the region highly diverse, second only to Africa in human genetic diversity.[25] Settled life emerged on the subcontinent in the western margins of the Indus river basin 9,000 years ago, evolving gradually into the Indus Valley Civilisation of the third millennium BCE.[26] By 1200 BCE, an archaic form of Sanskrit, an Indo-European language, had diffused into India from the northwest, unfolding as the language of the Rigveda, and recording the dawning of Hinduism in India.[27] The Dravidian languages of India were supplanted in the northern regions.[28] By 400 BCE, stratification and exclusion by caste had emerged within Hinduism,[29] and Buddhism and Jainism had arisen, proclaiming social orders unlinked to heredity.[30] Early political consolidations gave rise to the loose-knit Maurya and Gupta Empires based in the Ganges Basin.[31] Their collective era was suffused with wide-ranging creativity,[32] but also marked by the declining status of women,[33] and the incorporation of untouchability into an organised system of belief.[g][34] In South India, the Middle kingdoms exported Dravidian-languages scripts and religious cultures to the kingdoms of Southeast Asia. In the early medieval era, Christianity, Islam, Judaism, and Zoroastrianism put down roots on India's southern and western coasts. Muslim armies from Central Asia intermittently overran India's northern plains,[37] eventually establishing the Delhi Sultanate, and drawing northern India into the cosmopolitan networks of medieval Islam.[38] In the 15th century, the Vijayanagara Empire created a long-lasting composite Hindu culture in south India.[39] In the Punjab, Sikhism emerged, rejecting institutionalised religion.[40] The Mughal Empire, in 1526, ushered in two centuries of relative peace,[41] leaving a legacy of luminous architecture.[h][42] Gradually expanding rule of the British East India Company followed, turning India into a colonial economy, but also consolidating its sovereignty.[43] British Crown rule began in 1858. The rights promised to Indians were granted slowly,[44] but technological changes were introduced, and ideas of education, modernity and the public life took root.[45] A pioneering and influential nationalist movement emerged,[46] which was noted for nonviolent resistance and led India to its independence in 1947.\""
      ]
     },
     "execution_count": 2,
     "metadata": {},
     "output_type": "execute_result"
    }
   ],
   "source": [
    "text = open('India.txt','r',encoding='Latin-1')\n",
    "text = text.read()\n",
    "text"
   ]
  },
  {
   "cell_type": "code",
   "execution_count": 3,
   "id": "7fe033a9",
   "metadata": {},
   "outputs": [
    {
     "data": {
      "text/plain": [
       "['i',\n",
       " 'me',\n",
       " 'my',\n",
       " 'myself',\n",
       " 'we',\n",
       " 'our',\n",
       " 'ours',\n",
       " 'ourselves',\n",
       " 'you',\n",
       " \"you're\",\n",
       " \"you've\",\n",
       " \"you'll\",\n",
       " \"you'd\",\n",
       " 'your',\n",
       " 'yours',\n",
       " 'yourself',\n",
       " 'yourselves',\n",
       " 'he',\n",
       " 'him',\n",
       " 'his',\n",
       " 'himself',\n",
       " 'she',\n",
       " \"she's\",\n",
       " 'her',\n",
       " 'hers',\n",
       " 'herself',\n",
       " 'it',\n",
       " \"it's\",\n",
       " 'its',\n",
       " 'itself',\n",
       " 'they',\n",
       " 'them',\n",
       " 'their',\n",
       " 'theirs',\n",
       " 'themselves',\n",
       " 'what',\n",
       " 'which',\n",
       " 'who',\n",
       " 'whom',\n",
       " 'this',\n",
       " 'that',\n",
       " \"that'll\",\n",
       " 'these',\n",
       " 'those',\n",
       " 'am',\n",
       " 'is',\n",
       " 'are',\n",
       " 'was',\n",
       " 'were',\n",
       " 'be',\n",
       " 'been',\n",
       " 'being',\n",
       " 'have',\n",
       " 'has',\n",
       " 'had',\n",
       " 'having',\n",
       " 'do',\n",
       " 'does',\n",
       " 'did',\n",
       " 'doing',\n",
       " 'a',\n",
       " 'an',\n",
       " 'the',\n",
       " 'and',\n",
       " 'but',\n",
       " 'if',\n",
       " 'or',\n",
       " 'because',\n",
       " 'as',\n",
       " 'until',\n",
       " 'while',\n",
       " 'of',\n",
       " 'at',\n",
       " 'by',\n",
       " 'for',\n",
       " 'with',\n",
       " 'about',\n",
       " 'against',\n",
       " 'between',\n",
       " 'into',\n",
       " 'through',\n",
       " 'during',\n",
       " 'before',\n",
       " 'after',\n",
       " 'above',\n",
       " 'below',\n",
       " 'to',\n",
       " 'from',\n",
       " 'up',\n",
       " 'down',\n",
       " 'in',\n",
       " 'out',\n",
       " 'on',\n",
       " 'off',\n",
       " 'over',\n",
       " 'under',\n",
       " 'again',\n",
       " 'further',\n",
       " 'then',\n",
       " 'once',\n",
       " 'here',\n",
       " 'there',\n",
       " 'when',\n",
       " 'where',\n",
       " 'why',\n",
       " 'how',\n",
       " 'all',\n",
       " 'any',\n",
       " 'both',\n",
       " 'each',\n",
       " 'few',\n",
       " 'more',\n",
       " 'most',\n",
       " 'other',\n",
       " 'some',\n",
       " 'such',\n",
       " 'no',\n",
       " 'nor',\n",
       " 'not',\n",
       " 'only',\n",
       " 'own',\n",
       " 'same',\n",
       " 'so',\n",
       " 'than',\n",
       " 'too',\n",
       " 'very',\n",
       " 's',\n",
       " 't',\n",
       " 'can',\n",
       " 'will',\n",
       " 'just',\n",
       " 'don',\n",
       " \"don't\",\n",
       " 'should',\n",
       " \"should've\",\n",
       " 'now',\n",
       " 'd',\n",
       " 'll',\n",
       " 'm',\n",
       " 'o',\n",
       " 're',\n",
       " 've',\n",
       " 'y',\n",
       " 'ain',\n",
       " 'aren',\n",
       " \"aren't\",\n",
       " 'couldn',\n",
       " \"couldn't\",\n",
       " 'didn',\n",
       " \"didn't\",\n",
       " 'doesn',\n",
       " \"doesn't\",\n",
       " 'hadn',\n",
       " \"hadn't\",\n",
       " 'hasn',\n",
       " \"hasn't\",\n",
       " 'haven',\n",
       " \"haven't\",\n",
       " 'isn',\n",
       " \"isn't\",\n",
       " 'ma',\n",
       " 'mightn',\n",
       " \"mightn't\",\n",
       " 'mustn',\n",
       " \"mustn't\",\n",
       " 'needn',\n",
       " \"needn't\",\n",
       " 'shan',\n",
       " \"shan't\",\n",
       " 'shouldn',\n",
       " \"shouldn't\",\n",
       " 'wasn',\n",
       " \"wasn't\",\n",
       " 'weren',\n",
       " \"weren't\",\n",
       " 'won',\n",
       " \"won't\",\n",
       " 'wouldn',\n",
       " \"wouldn't\",\n",
       " '!',\n",
       " '\"',\n",
       " '#',\n",
       " '$',\n",
       " '%',\n",
       " '&',\n",
       " \"'\",\n",
       " '(',\n",
       " ')',\n",
       " '*',\n",
       " '+',\n",
       " ',',\n",
       " '-',\n",
       " '.',\n",
       " '/',\n",
       " ':',\n",
       " ';',\n",
       " '<',\n",
       " '=',\n",
       " '>',\n",
       " '?',\n",
       " '@',\n",
       " '[',\n",
       " '\\\\',\n",
       " ']',\n",
       " '^',\n",
       " '_',\n",
       " '`',\n",
       " '{',\n",
       " '|',\n",
       " '}',\n",
       " '~']"
      ]
     },
     "execution_count": 3,
     "metadata": {},
     "output_type": "execute_result"
    }
   ],
   "source": [
    "stop_words = list(stopwords.words('english'))+list(punctuation)\n",
    "stop_words"
   ]
  },
  {
   "cell_type": "code",
   "execution_count": 4,
   "id": "d91a70f8",
   "metadata": {},
   "outputs": [],
   "source": [
    "words = word_tokenize(text)"
   ]
  },
  {
   "cell_type": "code",
   "execution_count": 5,
   "id": "2969e51c",
   "metadata": {},
   "outputs": [
    {
     "data": {
      "text/plain": [
       "{'india': 14,\n",
       " 'officially': 1,\n",
       " 'republic': 1,\n",
       " 'hindi': 1,\n",
       " 'bhä\\x81rat': 1,\n",
       " 'gaá¹\\x87arä\\x81jya': 1,\n",
       " '23': 1,\n",
       " 'country': 3,\n",
       " 'south': 4,\n",
       " 'asia': 3,\n",
       " 'second-most': 1,\n",
       " 'populous': 2,\n",
       " 'seventh-largest': 1,\n",
       " 'area': 1,\n",
       " 'democracy': 1,\n",
       " 'world': 1,\n",
       " 'bounded': 1,\n",
       " 'indian': 3,\n",
       " 'ocean': 2,\n",
       " 'arabian': 1,\n",
       " 'sea': 1,\n",
       " 'southwest': 1,\n",
       " 'bay': 1,\n",
       " 'bengal': 1,\n",
       " 'southeast': 2,\n",
       " 'shares': 1,\n",
       " 'land': 1,\n",
       " 'borders': 1,\n",
       " 'pakistan': 1,\n",
       " 'west': 1,\n",
       " 'f': 1,\n",
       " 'china': 1,\n",
       " 'nepal': 1,\n",
       " 'bhutan': 1,\n",
       " 'north': 1,\n",
       " 'bangladesh': 1,\n",
       " 'myanmar': 1,\n",
       " 'east': 2,\n",
       " 'vicinity': 1,\n",
       " 'sri': 1,\n",
       " 'lanka': 1,\n",
       " 'maldives': 1,\n",
       " 'andaman': 1,\n",
       " 'nicobar': 1,\n",
       " 'islands': 1,\n",
       " 'share': 1,\n",
       " 'maritime': 1,\n",
       " 'border': 1,\n",
       " 'thailand': 1,\n",
       " 'indonesia': 1,\n",
       " 'modern': 1,\n",
       " 'humans': 1,\n",
       " 'arrived': 1,\n",
       " 'subcontinent': 2,\n",
       " 'africa': 2,\n",
       " 'later': 1,\n",
       " '55,000': 1,\n",
       " 'years': 2,\n",
       " 'ago': 2,\n",
       " '24': 1,\n",
       " 'long': 1,\n",
       " 'occupation': 1,\n",
       " 'initially': 1,\n",
       " 'varying': 1,\n",
       " 'forms': 1,\n",
       " 'isolation': 1,\n",
       " 'hunter-gatherers': 1,\n",
       " 'made': 1,\n",
       " 'region': 1,\n",
       " 'highly': 1,\n",
       " 'diverse': 1,\n",
       " 'second': 1,\n",
       " 'human': 1,\n",
       " 'genetic': 1,\n",
       " 'diversity': 1,\n",
       " '25': 1,\n",
       " 'settled': 1,\n",
       " 'life': 2,\n",
       " 'emerged': 4,\n",
       " 'western': 2,\n",
       " 'margins': 1,\n",
       " 'indus': 2,\n",
       " 'river': 1,\n",
       " 'basin': 2,\n",
       " '9,000': 1,\n",
       " 'evolving': 1,\n",
       " 'gradually': 2,\n",
       " 'valley': 1,\n",
       " 'civilisation': 1,\n",
       " 'third': 1,\n",
       " 'millennium': 1,\n",
       " 'bce': 3,\n",
       " '26': 1,\n",
       " '1200': 1,\n",
       " 'archaic': 1,\n",
       " 'form': 1,\n",
       " 'sanskrit': 1,\n",
       " 'indo-european': 1,\n",
       " 'language': 2,\n",
       " 'diffused': 1,\n",
       " 'northwest': 1,\n",
       " 'unfolding': 1,\n",
       " 'rigveda': 1,\n",
       " 'recording': 1,\n",
       " 'dawning': 1,\n",
       " 'hinduism': 2,\n",
       " '27': 1,\n",
       " 'dravidian': 1,\n",
       " 'languages': 1,\n",
       " 'supplanted': 1,\n",
       " 'northern': 3,\n",
       " 'regions': 1,\n",
       " '28': 1,\n",
       " '400': 1,\n",
       " 'stratification': 1,\n",
       " 'exclusion': 1,\n",
       " 'caste': 1,\n",
       " 'within': 1,\n",
       " '29': 1,\n",
       " 'buddhism': 1,\n",
       " 'jainism': 1,\n",
       " 'arisen': 1,\n",
       " 'proclaiming': 1,\n",
       " 'social': 1,\n",
       " 'orders': 1,\n",
       " 'unlinked': 1,\n",
       " 'heredity': 1,\n",
       " '30': 1,\n",
       " 'early': 2,\n",
       " 'political': 1,\n",
       " 'consolidations': 1,\n",
       " 'gave': 1,\n",
       " 'rise': 1,\n",
       " 'loose-knit': 1,\n",
       " 'maurya': 1,\n",
       " 'gupta': 1,\n",
       " 'empires': 1,\n",
       " 'based': 1,\n",
       " 'ganges': 1,\n",
       " '31': 1,\n",
       " 'collective': 1,\n",
       " 'era': 2,\n",
       " 'suffused': 1,\n",
       " 'wide-ranging': 1,\n",
       " 'creativity': 1,\n",
       " '32': 1,\n",
       " 'also': 2,\n",
       " 'marked': 1,\n",
       " 'declining': 1,\n",
       " 'status': 1,\n",
       " 'women': 1,\n",
       " '33': 1,\n",
       " 'incorporation': 1,\n",
       " 'untouchability': 1,\n",
       " 'organised': 1,\n",
       " 'system': 1,\n",
       " 'belief': 1,\n",
       " 'g': 1,\n",
       " '34': 1,\n",
       " 'middle': 1,\n",
       " 'kingdoms': 2,\n",
       " 'exported': 1,\n",
       " 'dravidian-languages': 1,\n",
       " 'scripts': 1,\n",
       " 'religious': 1,\n",
       " 'cultures': 1,\n",
       " 'medieval': 2,\n",
       " 'christianity': 1,\n",
       " 'islam': 2,\n",
       " 'judaism': 1,\n",
       " 'zoroastrianism': 1,\n",
       " 'put': 1,\n",
       " 'roots': 1,\n",
       " \"'s\": 2,\n",
       " 'southern': 1,\n",
       " 'coasts': 1,\n",
       " 'muslim': 1,\n",
       " 'armies': 1,\n",
       " 'central': 1,\n",
       " 'intermittently': 1,\n",
       " 'overran': 1,\n",
       " 'plains': 1,\n",
       " '37': 1,\n",
       " 'eventually': 1,\n",
       " 'establishing': 1,\n",
       " 'delhi': 1,\n",
       " 'sultanate': 1,\n",
       " 'drawing': 1,\n",
       " 'cosmopolitan': 1,\n",
       " 'networks': 1,\n",
       " '38': 1,\n",
       " '15th': 1,\n",
       " 'century': 1,\n",
       " 'vijayanagara': 1,\n",
       " 'empire': 2,\n",
       " 'created': 1,\n",
       " 'long-lasting': 1,\n",
       " 'composite': 1,\n",
       " 'hindu': 1,\n",
       " 'culture': 1,\n",
       " '39': 1,\n",
       " 'punjab': 1,\n",
       " 'sikhism': 1,\n",
       " 'rejecting': 1,\n",
       " 'institutionalised': 1,\n",
       " 'religion': 1,\n",
       " '40': 1,\n",
       " 'mughal': 1,\n",
       " '1526': 1,\n",
       " 'ushered': 1,\n",
       " 'two': 1,\n",
       " 'centuries': 1,\n",
       " 'relative': 1,\n",
       " 'peace': 1,\n",
       " '41': 1,\n",
       " 'leaving': 1,\n",
       " 'legacy': 1,\n",
       " 'luminous': 1,\n",
       " 'architecture': 1,\n",
       " 'h': 1,\n",
       " '42': 1,\n",
       " 'expanding': 1,\n",
       " 'rule': 2,\n",
       " 'british': 2,\n",
       " 'company': 1,\n",
       " 'followed': 1,\n",
       " 'turning': 1,\n",
       " 'colonial': 1,\n",
       " 'economy': 1,\n",
       " 'consolidating': 1,\n",
       " 'sovereignty': 1,\n",
       " '43': 1,\n",
       " 'crown': 1,\n",
       " 'began': 1,\n",
       " '1858': 1,\n",
       " 'rights': 1,\n",
       " 'promised': 1,\n",
       " 'indians': 1,\n",
       " 'granted': 1,\n",
       " 'slowly': 1,\n",
       " '44': 1,\n",
       " 'technological': 1,\n",
       " 'changes': 1,\n",
       " 'introduced': 1,\n",
       " 'ideas': 1,\n",
       " 'education': 1,\n",
       " 'modernity': 1,\n",
       " 'public': 1,\n",
       " 'took': 1,\n",
       " 'root': 1,\n",
       " '45': 1,\n",
       " 'pioneering': 1,\n",
       " 'influential': 1,\n",
       " 'nationalist': 1,\n",
       " 'movement': 1,\n",
       " '46': 1,\n",
       " 'noted': 1,\n",
       " 'nonviolent': 1,\n",
       " 'resistance': 1,\n",
       " 'led': 1,\n",
       " 'independence': 1,\n",
       " '1947': 1}"
      ]
     },
     "execution_count": 5,
     "metadata": {},
     "output_type": "execute_result"
    }
   ],
   "source": [
    "freqTable= {}\n",
    "for word in words:\n",
    "    word=word.lower()\n",
    "    if word not in stop_words:\n",
    "        if word in freqTable:\n",
    "            freqTable[word] += 1\n",
    "        else:\n",
    "            freqTable[word] = 1\n",
    "            \n",
    "freqTable"
   ]
  },
  {
   "cell_type": "code",
   "execution_count": 6,
   "id": "d2e1db0b",
   "metadata": {},
   "outputs": [
    {
     "data": {
      "text/plain": [
       "dict_items([('india', 14), ('officially', 1), ('republic', 1), ('hindi', 1), ('bhä\\x81rat', 1), ('gaá¹\\x87arä\\x81jya', 1), ('23', 1), ('country', 3), ('south', 4), ('asia', 3), ('second-most', 1), ('populous', 2), ('seventh-largest', 1), ('area', 1), ('democracy', 1), ('world', 1), ('bounded', 1), ('indian', 3), ('ocean', 2), ('arabian', 1), ('sea', 1), ('southwest', 1), ('bay', 1), ('bengal', 1), ('southeast', 2), ('shares', 1), ('land', 1), ('borders', 1), ('pakistan', 1), ('west', 1), ('f', 1), ('china', 1), ('nepal', 1), ('bhutan', 1), ('north', 1), ('bangladesh', 1), ('myanmar', 1), ('east', 2), ('vicinity', 1), ('sri', 1), ('lanka', 1), ('maldives', 1), ('andaman', 1), ('nicobar', 1), ('islands', 1), ('share', 1), ('maritime', 1), ('border', 1), ('thailand', 1), ('indonesia', 1), ('modern', 1), ('humans', 1), ('arrived', 1), ('subcontinent', 2), ('africa', 2), ('later', 1), ('55,000', 1), ('years', 2), ('ago', 2), ('24', 1), ('long', 1), ('occupation', 1), ('initially', 1), ('varying', 1), ('forms', 1), ('isolation', 1), ('hunter-gatherers', 1), ('made', 1), ('region', 1), ('highly', 1), ('diverse', 1), ('second', 1), ('human', 1), ('genetic', 1), ('diversity', 1), ('25', 1), ('settled', 1), ('life', 2), ('emerged', 4), ('western', 2), ('margins', 1), ('indus', 2), ('river', 1), ('basin', 2), ('9,000', 1), ('evolving', 1), ('gradually', 2), ('valley', 1), ('civilisation', 1), ('third', 1), ('millennium', 1), ('bce', 3), ('26', 1), ('1200', 1), ('archaic', 1), ('form', 1), ('sanskrit', 1), ('indo-european', 1), ('language', 2), ('diffused', 1), ('northwest', 1), ('unfolding', 1), ('rigveda', 1), ('recording', 1), ('dawning', 1), ('hinduism', 2), ('27', 1), ('dravidian', 1), ('languages', 1), ('supplanted', 1), ('northern', 3), ('regions', 1), ('28', 1), ('400', 1), ('stratification', 1), ('exclusion', 1), ('caste', 1), ('within', 1), ('29', 1), ('buddhism', 1), ('jainism', 1), ('arisen', 1), ('proclaiming', 1), ('social', 1), ('orders', 1), ('unlinked', 1), ('heredity', 1), ('30', 1), ('early', 2), ('political', 1), ('consolidations', 1), ('gave', 1), ('rise', 1), ('loose-knit', 1), ('maurya', 1), ('gupta', 1), ('empires', 1), ('based', 1), ('ganges', 1), ('31', 1), ('collective', 1), ('era', 2), ('suffused', 1), ('wide-ranging', 1), ('creativity', 1), ('32', 1), ('also', 2), ('marked', 1), ('declining', 1), ('status', 1), ('women', 1), ('33', 1), ('incorporation', 1), ('untouchability', 1), ('organised', 1), ('system', 1), ('belief', 1), ('g', 1), ('34', 1), ('middle', 1), ('kingdoms', 2), ('exported', 1), ('dravidian-languages', 1), ('scripts', 1), ('religious', 1), ('cultures', 1), ('medieval', 2), ('christianity', 1), ('islam', 2), ('judaism', 1), ('zoroastrianism', 1), ('put', 1), ('roots', 1), (\"'s\", 2), ('southern', 1), ('coasts', 1), ('muslim', 1), ('armies', 1), ('central', 1), ('intermittently', 1), ('overran', 1), ('plains', 1), ('37', 1), ('eventually', 1), ('establishing', 1), ('delhi', 1), ('sultanate', 1), ('drawing', 1), ('cosmopolitan', 1), ('networks', 1), ('38', 1), ('15th', 1), ('century', 1), ('vijayanagara', 1), ('empire', 2), ('created', 1), ('long-lasting', 1), ('composite', 1), ('hindu', 1), ('culture', 1), ('39', 1), ('punjab', 1), ('sikhism', 1), ('rejecting', 1), ('institutionalised', 1), ('religion', 1), ('40', 1), ('mughal', 1), ('1526', 1), ('ushered', 1), ('two', 1), ('centuries', 1), ('relative', 1), ('peace', 1), ('41', 1), ('leaving', 1), ('legacy', 1), ('luminous', 1), ('architecture', 1), ('h', 1), ('42', 1), ('expanding', 1), ('rule', 2), ('british', 2), ('company', 1), ('followed', 1), ('turning', 1), ('colonial', 1), ('economy', 1), ('consolidating', 1), ('sovereignty', 1), ('43', 1), ('crown', 1), ('began', 1), ('1858', 1), ('rights', 1), ('promised', 1), ('indians', 1), ('granted', 1), ('slowly', 1), ('44', 1), ('technological', 1), ('changes', 1), ('introduced', 1), ('ideas', 1), ('education', 1), ('modernity', 1), ('public', 1), ('took', 1), ('root', 1), ('45', 1), ('pioneering', 1), ('influential', 1), ('nationalist', 1), ('movement', 1), ('46', 1), ('noted', 1), ('nonviolent', 1), ('resistance', 1), ('led', 1), ('independence', 1), ('1947', 1)])"
      ]
     },
     "execution_count": 6,
     "metadata": {},
     "output_type": "execute_result"
    }
   ],
   "source": [
    "freqTable.items()"
   ]
  },
  {
   "cell_type": "code",
   "execution_count": 7,
   "id": "d78fad30",
   "metadata": {},
   "outputs": [],
   "source": [
    "sentences = sent_tokenize(text)"
   ]
  },
  {
   "cell_type": "code",
   "execution_count": 8,
   "id": "c8c01fa0",
   "metadata": {},
   "outputs": [
    {
     "data": {
      "text/plain": [
       "['India, officially the Republic of India (Hindi: BhÄ\\x81rat Gaá¹\\x87arÄ\\x81jya),[23] is a country in South Asia.',\n",
       " 'It is the second-most populous country, the seventh-largest country by area, and the most populous democracy in the world.',\n",
       " 'Bounded by the Indian Ocean on the south, the Arabian Sea on the southwest, and the Bay of Bengal on the southeast, it shares land borders with Pakistan to the west;[f] China, Nepal, and Bhutan to the north; and Bangladesh and Myanmar to the east.',\n",
       " 'In the Indian Ocean, India is in the vicinity of Sri Lanka and the Maldives; its Andaman and Nicobar Islands share a maritime border with Thailand and Indonesia.',\n",
       " 'Modern humans arrived on the Indian subcontinent from Africa no later than 55,000 years ago.',\n",
       " '[24] Their long occupation, initially in varying forms of isolation as hunter-gatherers, has made the region highly diverse, second only to Africa in human genetic diversity.',\n",
       " '[25] Settled life emerged on the subcontinent in the western margins of the Indus river basin 9,000 years ago, evolving gradually into the Indus Valley Civilisation of the third millennium BCE.',\n",
       " '[26] By 1200 BCE, an archaic form of Sanskrit, an Indo-European language, had diffused into India from the northwest, unfolding as the language of the Rigveda, and recording the dawning of Hinduism in India.',\n",
       " '[27] The Dravidian languages of India were supplanted in the northern regions.',\n",
       " '[28] By 400 BCE, stratification and exclusion by caste had emerged within Hinduism,[29] and Buddhism and Jainism had arisen, proclaiming social orders unlinked to heredity.',\n",
       " '[30] Early political consolidations gave rise to the loose-knit Maurya and Gupta Empires based in the Ganges Basin.',\n",
       " '[31] Their collective era was suffused with wide-ranging creativity,[32] but also marked by the declining status of women,[33] and the incorporation of untouchability into an organised system of belief.',\n",
       " '[g][34] In South India, the Middle kingdoms exported Dravidian-languages scripts and religious cultures to the kingdoms of Southeast Asia.',\n",
       " \"In the early medieval era, Christianity, Islam, Judaism, and Zoroastrianism put down roots on India's southern and western coasts.\",\n",
       " \"Muslim armies from Central Asia intermittently overran India's northern plains,[37] eventually establishing the Delhi Sultanate, and drawing northern India into the cosmopolitan networks of medieval Islam.\",\n",
       " '[38] In the 15th century, the Vijayanagara Empire created a long-lasting composite Hindu culture in south India.',\n",
       " '[39] In the Punjab, Sikhism emerged, rejecting institutionalised religion.',\n",
       " '[40] The Mughal Empire, in 1526, ushered in two centuries of relative peace,[41] leaving a legacy of luminous architecture.',\n",
       " '[h][42] Gradually expanding rule of the British East India Company followed, turning India into a colonial economy, but also consolidating its sovereignty.',\n",
       " '[43] British Crown rule began in 1858.',\n",
       " 'The rights promised to Indians were granted slowly,[44] but technological changes were introduced, and ideas of education, modernity and the public life took root.',\n",
       " '[45] A pioneering and influential nationalist movement emerged,[46] which was noted for nonviolent resistance and led India to its independence in 1947.']"
      ]
     },
     "execution_count": 8,
     "metadata": {},
     "output_type": "execute_result"
    }
   ],
   "source": [
    "sentences"
   ]
  },
  {
   "cell_type": "code",
   "execution_count": 9,
   "id": "748d82b3",
   "metadata": {},
   "outputs": [
    {
     "data": {
      "text/plain": [
       "{'India, officially the Republic of India (Hindi: BhÄ\\x81rat Gaá¹\\x87arÄ\\x81jya),[23] is a country in South Asia.': 34,\n",
       " 'It is the second-most populous country, the seventh-largest country by area, and the most populous democracy in the world.': 13,\n",
       " 'Bounded by the Indian Ocean on the south, the Arabian Sea on the southwest, and the Bay of Bengal on the southeast, it shares land borders with Pakistan to the west;[f] China, Nepal, and Bhutan to the north; and Bangladesh and Myanmar to the east.': 50,\n",
       " 'In the Indian Ocean, India is in the vicinity of Sri Lanka and the Maldives; its Andaman and Nicobar Islands share a maritime border with Thailand and Indonesia.': 34,\n",
       " 'Modern humans arrived on the Indian subcontinent from Africa no later than 55,000 years ago.': 34,\n",
       " '[24] Their long occupation, initially in varying forms of isolation as hunter-gatherers, has made the region highly diverse, second only to Africa in human genetic diversity.': 22,\n",
       " '[25] Settled life emerged on the subcontinent in the western margins of the Indus river basin 9,000 years ago, evolving gradually into the Indus Valley Civilisation of the third millennium BCE.': 38,\n",
       " '[26] By 1200 BCE, an archaic form of Sanskrit, an Indo-European language, had diffused into India from the northwest, unfolding as the language of the Rigveda, and recording the dawning of Hinduism in India.': 39,\n",
       " '[27] The Dravidian languages of India were supplanted in the northern regions.': 29,\n",
       " '[28] By 400 BCE, stratification and exclusion by caste had emerged within Hinduism,[29] and Buddhism and Jainism had arisen, proclaiming social orders unlinked to heredity.': 30,\n",
       " '[30] Early political consolidations gave rise to the loose-knit Maurya and Gupta Empires based in the Ganges Basin.': 19,\n",
       " '[31] Their collective era was suffused with wide-ranging creativity,[32] but also marked by the declining status of women,[33] and the incorporation of untouchability into an organised system of belief.': 23,\n",
       " '[g][34] In South India, the Middle kingdoms exported Dravidian-languages scripts and religious cultures to the kingdoms of Southeast Asia.': 42,\n",
       " \"In the early medieval era, Christianity, Islam, Judaism, and Zoroastrianism put down roots on India's southern and western coasts.\": 40,\n",
       " \"Muslim armies from Central Asia intermittently overran India's northern plains,[37] eventually establishing the Delhi Sultanate, and drawing northern India into the cosmopolitan networks of medieval Islam.\": 45,\n",
       " '[38] In the 15th century, the Vijayanagara Empire created a long-lasting composite Hindu culture in south India.': 32,\n",
       " '[39] In the Punjab, Sikhism emerged, rejecting institutionalised religion.': 12,\n",
       " '[40] The Mughal Empire, in 1526, ushered in two centuries of relative peace,[41] leaving a legacy of luminous architecture.': 19,\n",
       " '[h][42] Gradually expanding rule of the British East India Company followed, turning India into a colonial economy, but also consolidating its sovereignty.': 36,\n",
       " '[43] British Crown rule began in 1858.': 10,\n",
       " 'The rights promised to Indians were granted slowly,[44] but technological changes were introduced, and ideas of education, modernity and the public life took root.': 38,\n",
       " '[45] A pioneering and influential nationalist movement emerged,[46] which was noted for nonviolent resistance and led India to its independence in 1947.': 33}"
      ]
     },
     "execution_count": 9,
     "metadata": {},
     "output_type": "execute_result"
    }
   ],
   "source": [
    "sentence_weight = dict()\n",
    "\n",
    "for sentence in sentences:\n",
    "    for word, freq in freqTable.items():\n",
    "        if word in sentence.lower():\n",
    "            if sentence in sentence_weight:\n",
    "                sentence_weight[sentence] += freq\n",
    "            else:\n",
    "                sentence_weight[sentence] = freq\n",
    "                \n",
    "sentence_weight"
   ]
  },
  {
   "cell_type": "code",
   "execution_count": 10,
   "id": "72daa954",
   "metadata": {},
   "outputs": [
    {
     "data": {
      "text/plain": [
       "672"
      ]
     },
     "execution_count": 10,
     "metadata": {},
     "output_type": "execute_result"
    }
   ],
   "source": [
    "sumValues = 0\n",
    "for sentence in sentence_weight:\n",
    "    sumValues += sentence_weight[sentence]\n",
    "sumValues"
   ]
  },
  {
   "cell_type": "code",
   "execution_count": 11,
   "id": "2f1beac2",
   "metadata": {},
   "outputs": [],
   "source": [
    "average= int(sumValues/len(sentence_weight))"
   ]
  },
  {
   "cell_type": "code",
   "execution_count": 12,
   "id": "9a04018e",
   "metadata": {},
   "outputs": [
    {
     "name": "stdout",
     "output_type": "stream",
     "text": [
      "4\n",
      "\n",
      " Bounded by the Indian Ocean on the south, the Arabian Sea on the southwest, and the Bay of Bengal on the southeast, it shares land borders with Pakistan to the west;[f] China, Nepal, and Bhutan to the north; and Bangladesh and Myanmar to the east. [g][34] In South India, the Middle kingdoms exported Dravidian-languages scripts and religious cultures to the kingdoms of Southeast Asia. In the early medieval era, Christianity, Islam, Judaism, and Zoroastrianism put down roots on India's southern and western coasts. Muslim armies from Central Asia intermittently overran India's northern plains,[37] eventually establishing the Delhi Sultanate, and drawing northern India into the cosmopolitan networks of medieval Islam.\n"
     ]
    }
   ],
   "source": [
    "summary = ''\n",
    "counter = 0\n",
    "for sentence in sentences:\n",
    "    if (sentence in sentence_weight) and (sentence_weight[sentence]>(1.3*average)):\n",
    "        summary += \" \" + sentence\n",
    "        counter+=1\n",
    "\n",
    "print(counter,summary,sep='\\n\\n')"
   ]
  },
  {
   "cell_type": "markdown",
   "id": "2467244d",
   "metadata": {},
   "source": [
    "# Using Gensim"
   ]
  },
  {
   "cell_type": "code",
   "execution_count": 13,
   "id": "1f220ca4",
   "metadata": {},
   "outputs": [
    {
     "name": "stdout",
     "output_type": "stream",
     "text": [
      "Defaulting to user installation because normal site-packages is not writeable\n",
      "Requirement already satisfied: gensim==3.8.3 in c:\\users\\aman gupta\\appdata\\roaming\\python\\python39\\site-packages (3.8.3)\n",
      "Requirement already satisfied: numpy>=1.11.3 in c:\\programdata\\anaconda03\\lib\\site-packages (from gensim==3.8.3) (1.21.5)\n",
      "Requirement already satisfied: six>=1.5.0 in c:\\programdata\\anaconda03\\lib\\site-packages (from gensim==3.8.3) (1.16.0)\n",
      "Requirement already satisfied: scipy>=0.18.1 in c:\\programdata\\anaconda03\\lib\\site-packages (from gensim==3.8.3) (1.7.3)\n",
      "Requirement already satisfied: smart-open>=1.8.1 in c:\\programdata\\anaconda03\\lib\\site-packages (from gensim==3.8.3) (5.1.0)\n"
     ]
    }
   ],
   "source": [
    "!pip install gensim==3.8.3"
   ]
  },
  {
   "cell_type": "code",
   "execution_count": 31,
   "id": "ad6f8be9",
   "metadata": {},
   "outputs": [],
   "source": [
    "import gensim"
   ]
  },
  {
   "cell_type": "code",
   "execution_count": 33,
   "id": "4b746f5f",
   "metadata": {},
   "outputs": [],
   "source": [
    "from gensim.summarization.summarizer import summarize"
   ]
  },
  {
   "cell_type": "code",
   "execution_count": 34,
   "id": "16e68c05",
   "metadata": {},
   "outputs": [],
   "source": [
    "summary = summarize(text,ratio=.2)"
   ]
  },
  {
   "cell_type": "code",
   "execution_count": 35,
   "id": "c6d5a3ea",
   "metadata": {},
   "outputs": [
    {
     "data": {
      "text/plain": [
       "'Modern humans arrived on the Indian subcontinent from Africa no later than 55,000 years ago.[24] Their long occupation, initially in varying forms of isolation as hunter-gatherers, has made the region highly diverse, second only to Africa in human genetic diversity.[25] Settled life emerged on the subcontinent in the western margins of the Indus river basin 9,000 years ago, evolving gradually into the Indus Valley Civilisation of the third millennium BCE.[26] By 1200 BCE, an archaic form of Sanskrit, an Indo-European language, had diffused into India from the northwest, unfolding as the language of the Rigveda, and recording the dawning of Hinduism in India.[27] The Dravidian languages of India were supplanted in the northern regions.[28] By 400 BCE, stratification and exclusion by caste had emerged within Hinduism,[29] and Buddhism and Jainism had arisen, proclaiming social orders unlinked to heredity.[30] Early political consolidations gave rise to the loose-knit Maurya and Gupta Empires based in the Ganges Basin.[31] Their collective era was suffused with wide-ranging creativity,[32] but also marked by the declining status of women,[33] and the incorporation of untouchability into an organised system of belief.[g][34] In South India, the Middle kingdoms exported Dravidian-languages scripts and religious cultures to the kingdoms of Southeast Asia.'"
      ]
     },
     "execution_count": 35,
     "metadata": {},
     "output_type": "execute_result"
    }
   ],
   "source": [
    "summary"
   ]
  },
  {
   "cell_type": "code",
   "execution_count": null,
   "id": "7397c83e",
   "metadata": {},
   "outputs": [],
   "source": []
  },
  {
   "cell_type": "markdown",
   "id": "b5fe93b3",
   "metadata": {},
   "source": [
    "# Import Data from Wikipedia"
   ]
  },
  {
   "cell_type": "code",
   "execution_count": 21,
   "id": "5456a94c",
   "metadata": {},
   "outputs": [],
   "source": [
    "import spacy\n",
    "import wikipedia"
   ]
  },
  {
   "cell_type": "code",
   "execution_count": 53,
   "id": "75089b04",
   "metadata": {},
   "outputs": [],
   "source": [
    "wikisearch = wikipedia.page('Narendra Modi')\n",
    "wikicontent = wikisearch.content"
   ]
  },
  {
   "cell_type": "code",
   "execution_count": 54,
   "id": "9d4267a8",
   "metadata": {},
   "outputs": [
    {
     "data": {
      "text/plain": [
       "'Narendra Damodardas Modi (Gujarati: [ˈnəɾendɾə dɑmodəɾˈdɑs ˈmodiː] (listen); born 17 September 1950) is an Indian politician serving as the 14th and current prime minister of India since 2014. Modi was the chief minister of Gujarat from 2001 to 2014 and is the Member of Parliament from Varanasi. He is a member of the Bharatiya Janata Party (BJP) and of the Rashtriya Swayamsevak Sangh (RSS), a right-wing Hindu nationalist paramilitary volunteer organisation. He is the first prime minister to have been born after India\\'s independence in 1947 and the second prime minister not belonging to the Indian National Congress to have won two consecutive majorities in the Lok Sabha, or the lower house of India\\'s parliament. He is also the longest serving prime minister from a non-Congress party.\\nBorn and raised in Vadnagar, a small town in northeastern Gujarat, Modi completed his secondary education there.  He was introduced to the RSS at age eight. He has drawn attention to having to work as a child in his father\\'s tea stall on the Vadnagar railway station platform, a description that has not been reliably corroborated. At age 18, Modi was married to Jashodaben Chimanlal Modi, whom he abandoned soon after. He left his parental home where she had come to live. He first publicly acknowledged her as his wife more than four decades later when required to do so by Indian law, but has made no contact with her since.  Modi has asserted he had travelled in northern India for two years after leaving his parental home, visiting a number of religious centres, but few details of his travels have emerged. Upon his return to Gujarat in 1971, he became a full-time worker for the RSS. After the state of emergency was declared by prime minister Indira Gandhi in 1975, Modi went into hiding. The RSS assigned him to the BJP in 1985 and he held several positions within the party hierarchy until 2001, rising to the rank of general secretary.Modi was appointed Chief Minister of Gujarat in 2001 due to Keshubhai Patel\\'s failing health and poor public image following the earthquake in Bhuj. Modi was elected to the legislative assembly soon after. His administration has been considered complicit in the 2002 Gujarat riots in which 1044 people were killed, three-quarters of whom were Muslim, or otherwise criticised for its management of the crisis. A Supreme Court of India–appointed Special Investigation Team found no evidence to initiate prosecution proceedings against Modi personally. While his policies as chief minister—credited with encouraging economic growth—have received praise, his administration has been criticised for failing to significantly improve health, poverty and education indices in the state.Modi led the BJP in the 2014 general election which gave the party a majority in the lower house of Indian parliament, the Lok Sabha, the first time for any single party since 1984. Modi\\'s administration has tried to raise foreign direct investment in the Indian economy and reduced spending on healthcare and social welfare programmes. Modi has attempted to improve efficiency in the bureaucracy; he has centralised power by abolishing the Planning Commission. He began a high-profile sanitation campaign, controversially initiated a demonetisation of high-denomination banknotes and transformation of taxation regime, and weakened or abolished environmental and labour laws.\\nUnder Modi\\'s tenure, India has experienced democratic backsliding. Following his party\\'s victory in the 2019 general election, his administration revoked the special status of Jammu and Kashmir, introduced the Citizenship Amendment Act and three controversial farm laws, which prompted widespread protests and sit-ins across the country, resulting in a formal repeal of the latter. Described as engineering a political realignment towards right-wing politics, Modi remains a figure of controversy domestically and internationally over his Hindu nationalist beliefs and his handling of the 2002 Gujarat riots, cited as evidence of an exclusionary social agenda.\\n\\n\\n== Early life and education ==\\nNarendra Damodardas Modi was born on 17 September 1950 to a Gujarati Hindu family of grocers in Vadnagar, Mehsana district, Bombay State (present-day Gujarat). He was the third of six children born to Damodardas Mulchand Modi (c.\\u20091915–1989) and Hiraben Modi (born c.\\u20091920). Modi\\'s family belonged to the Modh-Ghanchi-Teli (oil-presser) community, which is categorised as an Other Backward Class by the Indian government.Modi had only infrequently spoken of his family background during his 13 years as chief minister of Gujarat. In the run up to the 2014 national elections, he began to regularly draw attention to his low-ranking social origins and to having to work as a child in his father\\'s tea shop on the Vadnagar railway station platform, a description that the evidence of neighbours does not entirely corroborate. Modi completed his higher secondary education in Vadnagar in 1967, where teachers described him as an average student and a keen gifted debater, with interest in theatre. Modi preferred playing larger-than-life characters in theatrical productions, which has influenced his political image.When eight years old, Modi was introduced to the Rashtriya Swayamsevak Sangh (RSS) and began attending its local shakhas (training sessions). There, Modi met Lakshmanrao Inamdar, popularly known as Vakil Saheb, who inducted him as a balswayamsevak (junior cadet) in the RSS and became his political mentor. While Modi was training with the RSS, he also met Vasant Gajendragadkar and Nathalal Jaghda, Bharatiya Jana Sangh leaders who were founding members of the BJP\\'s Gujarat unit in 1980.In a custom traditional to Narendra Modi\\'s caste, his family arranged a betrothal to a girl, Jashodaben Chimanlal Modi, leading to their marriage when she was 17 and he was 18. Soon afterwards, he abandoned his bride, and left home, never divorcing her, but the marriage remaining unmentioned in Modi\\'s public pronouncements for many decades. In April 2014, shortly before the national elections that swept him to power, Modi publicly affirmed that he was married and his spouse was Jashodaben; the couple has remained married, but estranged.Modi spent the ensuing two years travelling across Northern and North-eastern India, though few details of where he went have emerged. In interviews, Modi has described visiting Hindu ashrams founded by Swami Vivekananda: the Belur Math near Kolkata, followed by the Advaita Ashrama in Almora and the Ramakrishna Mission in Rajkot. Modi remained only a short time at each, since he lacked the required college education. Vivekananda has been described as a large influence in Modi\\'s life.In the early summer of 1968, Modi reached the Belur Math but was turned away, after which Modi wandered through Calcutta, West Bengal and Assam, stopping in Siliguri and Guwahati. Modi then went to the Ramakrishna Ashram in Almora, where he was again rejected, before travelling back to Gujarat via Delhi and Rajasthan in 1968–69. Sometime in late 1969 or early 1970, Modi returned to Vadnagar for a brief visit before leaving again for Ahmedabad. There, Modi lived with his uncle, working in the latter\\'s canteen at the Gujarat State Road Transport Corporation.In Ahmedabad, Modi renewed his acquaintance with Inamdar, who was based at the Hedgewar Bhavan (RSS headquarters) in the city. Modi\\'s first known political activity as an adult was in 1971 when he, as per his remarks, joined a Jana Sangh Satyagraha in Delhi led by Atal Bihari Vajpayee to enlist for the battlefield during the Bangladesh Liberation War. But the Indira Gandhi-led central government disallowed open support for the Mukti Bahini and Modi, according to his own claim, was put in Tihar Jail for a short period. After the Indo-Pakistani War of 1971, he stopped working for his uncle and became a full-time pracharak (campaigner) for the RSS, working under Inamdar. Shortly before the war, Modi took part in a non-violent protest against the Indian government in New Delhi, for which he was arrested (as per his claim); this has been cited as a reason for Inamdar electing to mentor him. Many years later Modi would co-author a biography of Inamdar, published in 2001. Modi\\'s claim that he was part of a Satyagraha led to a political war. Applications were filed with the PMO under the RTI Act seeking details of his arrest. In reply, the PMO claimed that it maintains official records on Modi only since he took charge as the Prime Minister of India in 2014. Despite this claim, the official website of the PMO contains specific information about Modi which dates back to the 1950s.In 1978 Modi received a Bachelor of Arts degree in political science from the School of Open Learning (SOL) at the University of Delhi, graduating with a third class. Five years later, in 1983, he received a Master of Arts degree in political science from Gujarat University, graduating with a first class as an external distance learning student. But there is a controversy surrounding his educational qualification. Replying to an RTI query, the SOL said it did not have any data of students who received a BA degree in 1978. Jayantibhai Patel, a former political science professor of Gujarat University, claimed that the subjects listed in Modi\\'s MA degree were not offered by the university when Modi was studying there.\\n\\n\\n== Early political career ==\\nIn June 1975, Prime Minister Indira Gandhi declared a state of emergency in India which lasted until 1977. During this period, known as \"The Emergency\", many of her political opponents were jailed and opposition groups were banned. Modi was appointed general secretary of the \"Gujarat Lok Sangharsh Samiti\", an RSS committee co-ordinating opposition to the Emergency in Gujarat. Shortly afterwards, the RSS was banned. Modi was forced to go underground in Gujarat and frequently travelled in disguise to avoid arrest. He became involved in printing pamphlets opposing the government, sending them to Delhi and organising demonstrations. Modi was also involved with creating a network of safe houses for individuals wanted by the government, and in raising funds for political refugees and activists. During this period, Modi wrote a book in Gujarati, Sangharsh Ma Gujarat (In The Struggles of Gujarat), describing events during the Emergency. Among the people he met in this role was trade unionist and socialist activist George Fernandes, as well as several other national political figures. In his travels during the Emergency, Modi was often forced to move in disguise, once dressing as a monk, and once as a Sikh.Modi became an RSS sambhag pracharak (regional organiser) in 1978, overseeing RSS activities in the areas of Surat and Vadodara, and in 1979 he went to work for the RSS in Delhi, where he was put to work researching and writing the RSS\\'s version of the history of the Emergency. He returned to Gujarat a short while later, and was assigned by the RSS to the BJP in 1985. In 1987 Modi helped organise the BJP\\'s campaign in the Ahmedabad municipal election, which the BJP won comfortably; Modi\\'s planning has been described as the reason for that result by biographers. After L. K. Advani became president of the BJP in 1986, the RSS decided to place its members in important positions within the BJP; Modi\\'s work during the Ahmedabad election led to his selection for this role, and Modi was elected organising secretary of the BJP\\'s Gujarat unit later in 1987.\\n\\nModi rose within the party and was named a member of the BJP\\'s National Election Committee in 1990, helping organise L. K. Advani\\'s 1990 Ram Rath Yatra in 1990 and Murli Manohar Joshi\\'s 1991–92 Ekta Yatra (Journey for Unity). However, he took a brief break from politics in 1992, instead establishing a school in Ahmedabad; friction with Shankersinh Vaghela, a BJP MP from Gujarat at the time, also played a part in this decision. Modi returned to electoral politics in 1994, partly at the insistence of Advani, and as party secretary, Modi\\'s electoral strategy was considered central to the BJP victory in the 1995 state assembly elections. In November of that year Modi was appointed BJP national secretary and transferred to New Delhi, where he assumed responsibility for party activities in Haryana and Himachal Pradesh. The following year, Shankersinh Vaghela, a prominent BJP leader from Gujarat, defected to the Indian National Congress (Congress, INC) after losing his parliamentary seat in the Lok Sabha elections. Modi, on the selection committee for the 1998 Assembly elections in Gujarat, favoured supporters of BJP leader Keshubhai Patel over those supporting Vaghela to end factional division in the party. His strategy was credited as key to the BJP winning an overall majority in the 1998 elections, and Modi was promoted to BJP general secretary (organisation) in May of that year.\\n\\n\\n== Chief Minister of Gujarat ==\\n\\n\\n=== Taking office ===\\nIn 2001, Keshubhai Patel\\'s health was failing and the BJP lost a few state assembly seats in by-elections. Allegations of abuse of power, corruption and poor administration were made, and Patel\\'s standing had been damaged by his administration\\'s handling of the earthquake in Bhuj in 2001. The BJP national leadership sought a new candidate for the chief ministership, and Modi, who had expressed misgivings about Patel\\'s administration, was chosen as a replacement. Although BJP leader L. K. Advani did not want to ostracise Patel and was concerned about Modi\\'s lack of experience in government, Modi declined an offer to be Patel\\'s deputy chief minister, telling Advani and Atal Bihari Vajpayee that he was \"going to be fully responsible for Gujarat or not at all\". On 3 October 2001 he replaced Patel as Chief Minister of Gujarat, with the responsibility of preparing the BJP for the December 2002 elections. Modi was sworn in as Chief Minister on 7 October 2001, and entered the Gujarat state legislature on 24 February 2002 by winning a by-election to the Rajkot – II constituency, defeating Ashwin Mehta of the INC by 14,728 votes.\\n\\n\\n=== 2002 Gujarat riots ===\\n\\nOn 27 February 2002, a train with several hundred passengers burned near Godhra, killing approximately 60 people. The train carried a large number of Hindu pilgrims returning from Ayodhya after a religious ceremony at the site of the demolished Babri Masjid. In making a public statement after the incident, Modi declared it a terrorist attack planned and orchestrated by local Muslims. The next day, the Vishwa Hindu Parishad called for a bandh across the state. Riots began during the bandh, and anti-Muslim violence spread through Gujarat. The government\\'s decision to move the bodies of the train victims from Godhra to Ahmedabad further inflamed the violence. The state government stated later that 790 Muslims and 254 Hindus were killed. Independent sources put the death toll at over 2000, the vast majority Muslims Approximately 150,000 people were driven to refugee camps. Numerous women and children were among the victims; the violence included mass rapes and mutilations of women.The government of Gujarat itself is generally considered by scholars to have been complicit in the riots, (with some blaming chief minister Modi explicitly) and has otherwise received heavy criticism for its handling of the situation. Several scholars have described the violence as a pogrom, while others have called it an example of state terrorism. Summarising academic views on the subject, Martha Nussbaum said: \"There is by now a broad consensus that the Gujarat violence was a form of ethnic cleansing, that in many ways it was premeditated, and that it was carried out with the complicity of the state government and officers of the law.\" The Modi government imposed a curfew in 26 major cities, issued shoot-at-sight orders and called for the army to patrol the streets, but was unable to prevent the violence from escalating. The president of the state unit of the BJP expressed support for the bandh, despite such actions being illegal at the time. State officials later prevented riot victims from leaving the refugee camps, and the camps were often unable to meet the needs of those living there. Muslim victims of the riots were subject to further discrimination when the state government announced that compensation for Muslim victims would be half of that offered to Hindus, although this decision was later reversed after the issue was taken to court. During the riots, police officers often did not intervene in situations where they were able.Modi\\'s personal involvement in the 2002 events has continued to be debated. During the riots, Modi said that \"What is happening is a chain of action and reaction.\" Later in 2002, Modi said the way in which he had handled the media was his only regret regarding the episode. In March 2008, the Supreme Court reopened several cases related to the 2002 riots, including that of the Gulbarg Society massacre, and established a Special Investigation Team (SIT) to look into the issue. In response to a petition from Zakia Jafri (widow of Ehsan Jafri, who was killed in the Gulbarg Society massacre), in April 2009 the court also asked the SIT to investigate the issue of Modi\\'s complicity in the killings. The SIT questioned Modi in March 2010; in May, it presented to the court a report finding no evidence against him. In July 2011, the court-appointed amicus curiae Raju Ramachandran submitted his final report to the court. Contrary to the SIT\\'s position, he said that Modi could be prosecuted based on the available evidence. The Supreme Court gave the matter to the magistrate\\'s court. The SIT examined Ramachandran\\'s report, and in March 2012 submitted its final report, asking for the case to be closed. Zakia Jafri filed a protest petition in response. In December 2013 the magistrate\\'s court rejected the protest petition, accepting the SIT\\'s finding that there was no evidence against the chief minister.\\n\\n\\n=== 2002 election ===\\n\\nIn the aftermath of the violence there were widespread calls for Modi to resign as chief minister from within and outside the state, including from leaders of the Dravida Munnetra Kazhagam and the Telugu Desam Party (allies in the BJP-led National Democratic Alliance coalition), and opposition parties stalled Parliament over the issue. Modi submitted his resignation at the April 2002 BJP national executive meeting in Goa, but it was not accepted. His cabinet had an emergency meeting on 19 July 2002, after which it offered its resignation to the Gujarat Governor S. S. Bhandari, and the state assembly was dissolved. Despite opposition from the election commissioner, who said that a number of voters were still displaced, Modi succeeded in advancing the election to December 2002. In the elections, the BJP won 127 seats in the 182-member assembly. Although Modi later denied it, he made significant use of anti-Muslim rhetoric during his campaign, and the BJP profited from religious polarisation among the voters. He won the Maninagar constituency, receiving 113,589 of 154,981 votes and defeating INC candidate Yatin Oza by 75,333 votes. On 22 December 2002, Bhandari swore Modi in for a second term. Modi framed the criticism of his government for human rights violations as an attack upon Gujarati pride, a strategy which led to the BJP winning two-thirds of the seats in the state assembly.\\n\\n\\n=== Second term ===\\nDuring Modi\\'s second term the rhetoric of the government shifted from Hindutva to Gujarat\\'s economic development. Modi curtailed the influence of Sangh Parivar organisations such as the Bharatiya Kisan Sangh (BKS) and the Vishva Hindu Parishad (VHP), entrenched in the state after the decline of Ahmedabad\\'s textile industry, and dropped Gordhan Zadafia (an ally of former Sangh co-worker and VHP state chief Praveen Togadia) from his cabinet. When the BKS staged a farmers\\' demonstration Modi ordered their eviction from state-provided houses, and his decision to demolish 200 illegal temples in Gandhinagar deepened the rift with the Vishva Hindu Parishad. Sangh organisations were no longer consulted or informed in advance about Modi\\'s administrative decisions. Nonetheless, Modi retained connections with some Hindu nationalists. Modi wrote a foreword to a textbook by Dinanath Batra released in 2014, which stated that ancient India possessed technologies including test-tube babies.Modi\\'s relationship with Muslims continued to attract criticism. Prime Minister Atal Bihari Vajpayee (who asked Modi for tolerance in the aftermath of the 2002 Gujarat violence and supported his resignation as chief minister) distanced himself, reaching out to North Indian Muslims before the 2004 Lok Sabha elections. After the elections Vajpayee called the violence in Gujarat a reason for the BJP\\'s electoral defeat and said it had been a mistake to leave Modi in office after the riots.Questions about Modi\\'s relationship with Muslims were also raised by many Western nations during his tenure as chief minister. Modi was barred from entering the United States by the State Department, in accordance with the recommendations of the Commission on International Religious Freedom formed under the aegis of the International Religious Freedom Act, the only person denied a US visa under this law. The UK and the European Union refused to admit him because of what they saw as his role in the riots. As Modi rose to prominence in India, the UK and the EU lifted their bans in October 2012 and March 2013, respectively, and after his election he was invited to Washington as the nation\\'s prime minister.During the run-up to the 2007 Gujarat Legislative Assembly election and the 2009 Indian general election, the BJP intensified its rhetoric on terrorism. In July 2006, Modi criticised Prime Minister Manmohan Singh \" for his reluctance to revive anti-terror legislation\" such as the 2002 Prevention of Terrorism Act. He asked the national government to allow states to invoke tougher laws in the wake of the 2006 Mumbai train bombings. In 2007 Modi authored Karmayog, a 101-page booklet discussing manual scavenging. In it, Modi argued that scavenging was a \"spiritual experience\" for Valmiks, a sub-caste of Dalits. However, this book was not circulated that time because of the election code of conduct. After the November 2008 Mumbai attacks, Modi held a meeting to discuss the security of Gujarat\\'s 1,600-kilometre (990 mi)-long coastline, resulting in government authorisation of 30 high-speed surveillance boats. In July 2007 Modi completed 2,063 consecutive days as chief minister of Gujarat, making him the longest-serving holder of that post, and the BJP won 122 of 182 state-assembly seats in that year\\'s election.\\n\\n\\n=== Development projects ===\\n\\nAs Chief Minister, Modi favoured privatisation and small government, which was at odds with the philosophy of the RSS, usually described as anti-privatisation and anti-globalisation. His policies during his second term have been credited with reducing corruption in the state. He established financial and technology parks in Gujarat and during the 2007 Vibrant Gujarat summit, real-estate investment deals worth ₹6.6 trillion (equivalent to ₹17 trillion or US$220 billion in 2020) were signed.The governments led by Patel and Modi supported NGOs and communities in the creation of groundwater-conservation projects. By December 2008, 500,000 structures had been built, of which 113,738 were check dams, which helped recharge the aquifers beneath them. Sixty of the 112 tehsils which had depleted the water table in 2004 had regained their normal groundwater levels by 2010. As a result, the state\\'s production of genetically modified cotton increased to become the largest in India. The boom in cotton production and its semi-arid land use led to Gujarat\\'s agricultural sector growing at an average rate of 9.6 percent from 2001 to 2007. Public irrigation measures in central and southern Gujarat, such as the Sardar Sarovar Dam, were less successful. The Sardar Sarovar project only irrigated 4–6% of the area intended. Nonetheless, from 2001 to 2010 Gujarat recorded an agricultural growth rate of 10.97 percent – the highest of any state. However, sociologists have pointed out that the growth rate under the 1992–97 INC government was 12.9 percent. In 2008 Modi offered land in Gujarat to Tata Motors to set up a plant manufacturing the Nano after a popular agitation had forced the company to move out of West Bengal. Several other companies followed the Tata to Gujarat.The Modi government finished the process of bringing electricity to every village in Gujarat that its predecessor had almost completed. Modi significantly changed the state\\'s system of power distribution, greatly impacting farmers. Gujarat expanded the Jyotigram Yojana scheme, in which agricultural electricity was separated from other rural electricity; the agricultural electricity was rationed to fit scheduled irrigation demands, reducing its cost. Although early protests by farmers ended when those who benefited found that their electricity supply had stabilised, according to an assessment study corporations and large farmers benefited from the policy at the expense of small farmers and labourers.\\n\\n\\n=== Development debate ===\\n\\nA contentious debate surrounds the assessment of Gujarat\\'s economic development during Modi\\'s tenure as chief minister. The state\\'s GDP growth rate averaged 10% during Modi\\'s tenure, a value similar to other highly industrialised states, and above that of the country as a whole. Gujarat also had a high rate of economic growth in the 1990s, before Modi took office, and some scholars have stated that growth did not much accelerate during Modi\\'s tenure, although the state is considered to have maintained a high growth rate during Modi\\'s Chief Ministership. Under Narendra Modi, Gujarat topped the World Bank\\'s \"ease of doing business\" rankings among Indian states for two consecutive years. In 2013, Gujarat was ranked first among Indian states for \"economic freedom\" by a report measuring governance, growth, citizens\\' rights and labour and business regulation among the country\\'s 20 largest states. In the later years of Modi\\'s government, Gujarat\\'s economic growth was frequently used as an argument to counter allegations of communalism. Tax breaks for businesses were easier to obtain in Gujarat than in other states, as was land. Modi\\'s policies to make Gujarat attractive for investment included the creation of Special Economic Zones, where labour laws were greatly weakened.Despite its growth rate, Gujarat had a relatively poor record on human development, poverty relief, nutrition and education during Modi\\'s tenure. In 2013, Gujarat ranked 13th in the country with respect to rates of poverty and 21st in education. Nearly 45 percent of children under five were underweight and 23 percent were undernourished, putting the state in the \"alarming\" category on the India State Hunger Index. A study by UNICEF and the Indian government found that Gujarat under Modi had a poor record with respect to immunisation in children.Over the decade from 2001 to 2011, Gujarat did not change its position relative to the rest of the country with respect to poverty and female literacy, remaining near the median of the 29 Indian states. It showed a marginal improvement in rates of infant mortality, and its position with respect to individual consumption declined. With respect to the quality of education in government schools, the state ranked below many Indian states. The social policies of the government generally did not benefit Muslims, Dalits, and Adivasis, and generally increased social inequalities. Development in Gujarat was generally limited to the urban middle class, and citizens in rural areas or from lower castes were increasingly marginalised. In 2013 the state ranked 10th of 21 Indian states in the Human Development Index. Under Modi, the state government spent less than the national average on education and healthcare.\\n\\n\\n=== Final years ===\\n\\nDespite the BJP\\'s shift away from explicit Hindutva, Modi\\'s election campaign in 2007 and 2012 contained elements of Hindu nationalism. Modi only attended Hindu religious ceremonies, and had prominent associations with Hindu religious leaders. During his 2012 campaign he twice refused to wear articles of clothing gifted by Muslim leaders. He did, however, maintain relations with Dawoodi Bohra. His campaign included references to issues known to cause religious polarisation, including to Afzal Guru and the killing of Sohrabuddin Sheikh. The BJP did not nominate any Muslim candidates for the assembly election of 2012. During the 2012 campaign, Modi attempted to identify himself with the state of Gujarat, a strategy similar to that used by Indira Gandhi during the Emergency, and projected himself as protecting Gujarat against persecution by the rest of India.\\nWhile campaigning for the 2012 assembly elections, Modi made extensive use of holograms and other technologies allowing him to reach a large number of people, something he would repeat in the 2014 general election. In the 2012 Gujarat Legislative Assembly elections, Modi won the constituency of Maninagar by 86,373 votes over Shweta Bhatt, the INC candidate and wife of Sanjiv Bhatt. The BJP won 115 of the 182 seats, continuing its majority during his tenure and allowing the party to form the government (as it had in Gujarat since 1995). After his election as prime minister, Modi resigned as the chief minister and as an MLA from Maninagar on 21 May 2014. Anandiben Patel succeeded him as the chief minister.\\n\\n\\n== Premiership campaigns ==\\n\\n\\n=== 2014 Indian general election ===\\n\\nIn September 2013 Modi was named the BJP\\'s candidate for prime minister ahead of the 2014 Lok Sabha election. Several BJP leaders expressed opposition to Modi\\'s candidature, including BJP founding member L. K. Advani, who cited concern with leaders who were \"concerned with their personal agendas\". Modi played a dominant role in the BJP\\'s election campaign. Several people who voted for the BJP stated that if Modi had not been the prime-ministerial candidate, they would have voted for another party. The focus on Modi as an individual was unusual for a BJP election campaign. The election was described as a referendum on Narendra Modi.\\nDuring the campaign, Modi focused on the corruption scandals under the previous INC government, and played on his image as a politician who had created a high rate of GDP growth in Gujarat. Modi projected himself as a person who could bring about \"development,\" without focus on any specific policies. His message found support among young Indians and among middle-class citizens. The BJP under Modi was able to downplay concerns about the protection of religious minorities and Modi\\'s commitment to secularism, areas in which he had previously received criticism. Prior to the election Modi\\'s image in the media had centered around his role in the 2002 Gujarat riots, but during the campaign the BJP was able to shift this to a focus on Modi\\'s neoliberal ideology and the Gujarat model of development, although Hindutva remained a significant part of its campaign. The BJP\\'s campaign was assisted by its wide influence in the media. Modi\\'s campaign blitz cost around ₹50 billion (US$660 million) and the BJP received extensive financial support from corporate donors. In addition to more conventional campaign methods, Modi made extensive use of social media, and addressed more than 1000 rallies via hologram appearances.The BJP won 31% of the vote, and more than doubled its tally in the Lok Sabha to 282, becoming the first party to win a majority of seats on its own since 1984. Voter dissatisfaction with the INC, as well as with regional parties in North India, was another reason for the success of the BJP, as was the support from the RSS. In states such as Uttar Pradesh in which the BJP performed well, it drew exceptionally high support from upper-caste Hindus, although the 10 percent of Muslim votes won was more than it had won before. It performed particularly well in parts of the country that had recently experienced violence between Hindus and Muslims. The magnitude of the BJP\\'s victory led many commentators to say that the election constituted a political realignment away from progressive parties and towards the right-wing. Modi\\'s tweet announcing his victory was described as being emblematic of the political realignment away from a secular, socialist state towards capitalism and Hindu cultural nationalism.Modi himself was a candidate for the Lok Sabha in two constituencies: Varanasi and Vadodara. He won in both constituencies, defeating Aam Aadmi Party leader Arvind Kejriwal in Varanasi by 371,784 votes and Madhusudan Mistry of the INC in Vadodara by 570,128 votes. Modi, who was unanimously elected leader of the BJP, was appointed prime minister by India\\'s president. To comply with the law that an MP cannot represent more than one constituency, he vacated the Vadodara seat.\\n\\n\\n=== 2019 Indian general election ===\\n\\nOn 13 October 2018, Modi was renamed as the BJP candidate for prime minister for the 2019 general election. The chief campaigner for the party was BJP\\'s president Amit Shah. Modi launched the Main Bhi Chowkidar campaign ahead of the general election, against Chowkidar Chor Hai campaign slogan of INC. In the year 2018, end Party\\'s, second-biggest alliance Telugu Desam Party split from NDA over the matter of special-status for Andhra Pradesh.The campaign was started by Amit Shah on 8 April 2019. In the campaign, Modi was targeted by the opposition on corruption allegations over Rafale deal with France government. Highlighting this controversy the campaign \"Chowkidar Chor Hai\" was started, which was contrary to \"Main Bhi Chowkidar\" slogan. Modi made defence and national security among the foremost topics for the election campaign, especially after Pulwama attack, and the retaliatory attack of Balakot airstrike was counted as an achievement of the Modi administration. Other topics in the campaign were development and good foreign relations in the first premiership.Modi contested the Lok Sabha elections as a candidate from Varanasi. He won the seat by defeating Shalini Yadav of the Samajwadi Party, who fought on SP-BSP alliance by a margin of 479,505 votes. Modi was unanimously appointed the prime minister for a second time by the National Democratic Alliance, after the alliance won the election for the second time by securing 353 seats in the Lok Sabha with the BJP alone won 303 seats.\\n\\n\\n== Prime Minister ==\\n\\nAfter the Bharatiya Janata Party led National Democratic Alliance won a landslide in the 2014 Lok Sabha election, Narendra Modi was sworn in as the Prime Minister of India on 26 May 2014. He became the first Prime Minister born after India\\'s independence from the British Empire in 1947. Modi started his second term after the Bharatiya Janata Party led National Democratic Alliance won again in the 2019 Lok Sabha election. On 6 December 2020, Modi became the 4th longest serving Prime Minister of India and the longest serving Non-Congress Prime Minister.\\n\\n\\n=== Governance and other initiatives ===\\n\\nModi\\'s first year as prime minister saw significant centralisation of power relative to previous administrations. His efforts at centralisation have been linked to an increase in the number of senior administration officials resigning their positions. Initially lacking a majority in the Rajya Sabha, or upper house of Indian Parliament, Modi passed a number of ordinances to enact his policies, leading to further centralisation of power. The government also passed a bill increasing the control that it had over the appointment of judges, and reducing that of the judiciary.In December 2014 Modi abolished the Planning Commission, replacing it with the National Institution for Transforming India, or NITI Aayog. The move had the effect of greatly centralising the power previously with the planning commission in the person of the prime minister. The planning commission had received heavy criticism in previous years for creating inefficiency in the government, and of not filling its role of improving social welfare: however, since the economic liberalisation of the 1990s, it had been the major government body responsible for measures related to social justice.The Modi government launched investigations by the Intelligence Bureau against numerous civil society organisations and foreign non-governmental organisations in the first year of the administration. The investigations, on the grounds that these organisations were slowing economic growth, was criticised as a witch-hunt. International humanitarian aid organisation Medecins Sans Frontieres was among the groups that were put under pressure. Other organisations affected included the Sierra Club and Avaaz. Cases of sedition were filed against individuals criticising the government. This led to discontent within the BJP regarding Modi\\'s style of functioning and drew comparisons to the governing style of Indira Gandhi.Modi repealed 1,200 obsolete laws in first three years as prime minister; a total of 1,301 such laws had been repealed by previous governments over a span of 64 years. He started a monthly radio programme titled \"Mann Ki Baat\" on 3 October 2014. Modi also launched the Digital India programme, with the goal of ensuring that government services are available electronically, building infrastructure to provide high-speed Internet access to rural areas, boosting manufacturing of electronic goods in the country, and promoting digital literacy.Modi launched Ujjwala scheme to provide free LPG connection to rural households. The scheme led to an increase in LPG consumption by 56% in 2019 as compared to 2014. In 2019, a law was passed to provide 10% reservation to Economically weaker sections.He was again sworn in as prime minister on 30 May 2019. On 30 July 2019, Parliament of India declared the practice of Triple Talaq as illegal, unconstitutional and made it punishable act from 1 August 2019 which is deemed to be in effect from 19 September 2018. On 5 August 2019, the government moved resolution to scrap Article 370 in the Rajya Sabha, and also reorganise the state with Jammu and Kashmir serving as one of the union territory and Ladakh region separated out as a separate union territory.\\n\\n\\n=== Economic policy ===\\n\\nThe economic policies of Modi\\'s government focused on privatisation and liberalisation of the economy, based on a neoliberal framework. Modi liberalised India\\'s foreign direct investment policies, allowing more foreign investment in several industries, including in defence and the railways. Other proposed reforms included making it harder for workers to form unions and easier for employers to hire and fire them; some of these proposals were dropped after protests. The reforms drew strong opposition from unions: on 2 September 2015, eleven of the country\\'s largest unions went on strike, including one affiliated with the BJP. The Bharatiya Mazdoor Sangh, a constituent of the Sangh Parivar, stated that the underlying motivation of labour reforms favoured corporations over labourers.The funds dedicated to poverty reduction programmes and social welfare measures were greatly decreased by the Modi administration. The money spent on social programmes declined from 14.6% of GDP during the Congress government to 12.6% during Modi\\'s first year in office. Spending on health and family welfare declined by 15%, and on primary and secondary education by 16%. The budgetary allocation for the Sarva Shiksha Abhiyan, or the \"education for all\" programme, declined by 22%. The government also lowered corporate taxes, abolished the wealth tax, increased sales taxes, and reduced customs duties on gold, and jewellery. In October 2014, the Modi government deregulated diesel prices.In September 2014, Modi introduced the Make in India initiative to encourage foreign companies to manufacture products in India, with the goal of turning the country into a global manufacturing hub. Supporters of economic liberalisation supported the initiative, while critics argued it would allow foreign corporations to capture a greater share of the Indian market. Modi\\'s administration passed a land-reform bill that allowed it to acquire private agricultural land without conducting a social impact assessment, and without the consent of the farmers who owned it. The bill was passed via an executive order after it faced opposition in parliament, but was eventually allowed to lapse. Modi\\'s government put in place the Goods and Services Tax, the biggest tax reform in the country since independence. It subsumed around 17 different taxes and became effective from 1 July 2017.\\n\\nIn his first cabinet decision, Modi set up a team to investigate black money. On 9 November 2016, the government demonetised ₹500 and ₹1000 banknotes, with the stated intention of curbing corruption, black money, the use of counterfeit currency, and terrorism. The move led to severe cash shortages, a steep decline in the Indian stock indices BSE SENSEX and NIFTY 50, and sparked widespread protests throughout the country. Several deaths were linked to the rush to exchange cash. In the subsequent year, the number of income tax returns filed for individuals rose by 25%, and the number of digital transactions increased steeply.Over the first four years of Modi\\'s premiership, India\\'s GDP grew at an average rate of 7.23%, higher than the rate of 6.39% under the previous government. The level of income inequality increased, while an internal government report said that in 2017, unemployment had increased to its highest level in 45 years. The loss of jobs was attributed to the 2016 demonetisation, and to the effects of the Goods and Services Tax.In the next year, after 2018, Indian economy started a gradual recovery with a GDP growth of 6.12% in 2018–19 FY, with an inflation rate of 3.4%. Same year, India was successful in making a good economy in trade and manufacturing sector. While in the FY of 2019–20, due to the general election, Modi government focused more on their election campaign. In the year 2019–20, the GDP growth rate was  4.18% and inflation rate also increased to 4.7% from 3.4% in the previous year. Though being high unemployment, increase in inflation rate and budget deficiency, Modi\\'s leadership won in 2019 elections.Due to the COVID-19 pandemic, numerous rating agencies downgraded India\\'s GDP predictions for FY21 to negative figures, signalling a recession in India, the most severe since 1979. According to a Dun & Bradstreet report, the country is likely to suffer a recession in the third quarter of FY2020 as a result of the over 2-month long nation-wide lockdown imposed to curb the spread of COVID-19. This was also accompanied by the mass migration of migrant workers.Though, The Indian Economy in 2021 recovered with a growth rate around 9% in FY21 and is expected to grow around 8.2% in FY22, as estimates from IMF and WB; although the growth rate in 2020 was in negative figures (-6.6%) due to the COVID-19 Pandemic.\\n\\n\\n=== Health and sanitation ===\\n\\nIn his first year as prime minister, Modi reduced the amount of money spent by the central government on healthcare. The Modi government launched New Health Policy (NHP) in January 2015. The policy did not increase the government\\'s spending on healthcare, instead emphasising the role of private healthcare organisations. This represented a shift away from the policy of the previous Congress government, which had supported programmes to assist public health goals, including reducing child and maternal mortality rates. The National Health Mission, which included public health programmes targeted at these indices received nearly 20% less funds in 2015 than in the previous year. 15 national health programmes, including those aimed at controlling tobacco use and supporting healthcare for the elderly, were merged with the National Health Mission. In its budget for the second year after it took office, the Modi government reduced healthcare spending by 15%. The healthcare budget for the following year rose by 19%. The budget was viewed positively by private insurance providers. Public health experts criticised its emphasis on the role of private healthcare providers, and suggested that it represented a shift away from public health facilities. The healthcare budget rose by 11.5% in 2018; the change included an allocation of ₹20 billion (US$260 million) for a government-funded health insurance program, and a decrease in the budget of the National Health Mission. The government introduced stricter packaging laws for tobacco which requires 85% of the packet size to be covered by pictorial warnings. An article in the medical journal Lancet stated that the country \"might have taken a few steps back in public health\" under Modi. In 2018 Modi launched the Ayushman Bharat Yojana, a government health insurance scheme intended to insure 500 million people. 100,000 people had signed up by October 2018.\\n\\nModi emphasised his government\\'s efforts at sanitation as a means of ensuring good health. On 2 October 2014, Modi launched the Swachh Bharat Mission (\"Clean India\") campaign. The stated goals of the campaign included eliminating open defecation and manual scavenging within five years. As part of the programme, the Indian government began constructing millions of toilets in rural areas and encouraging people to use them. The government also announced plans to build new sewage treatment plants. The administration plans to construct 60 million toilets by 2019. The construction projects have faced allegations of corruption, and have faced severe difficulty in getting people to use the toilets constructed for them. Sanitation cover in the country increased from 38.7% in October 2014 to 84.1% in May 2018; however, usage of the new sanitary facilities lagged behind the government\\'s targets. In 2018, the World Health Organization stated that at least 180,000 diarrhoeal deaths were averted in rural India after the launch of the sanitation effort.\\n\\n\\n=== Hindutva ===\\n\\nDuring the 2014 election campaign, the BJP sought to identify itself with political leaders known to have opposed Hindu nationalism, including B. R. Ambedkar, Subhas Chandra Bose, and Ram Manohar Lohia. The campaign also saw the use of rhetoric based on Hindutva by BJP leaders in certain states. Communal tensions were played upon especially in Uttar Pradesh and the states of Northeast India. A proposal for the controversial Uniform Civil Code was a part of the BJP\\'s election manifesto.The activities of a number of Hindu nationalist organisations increased in scope after Modi\\'s election as Prime Minister, sometimes with the support of the government. These activities included a Hindu religious conversion programme, a campaign against the alleged Islamic practice of \"Love Jihad\", and attempts to celebrate Nathuram Godse, the assassin of Mahatma Gandhi, by members of the right wing Hindu Mahasabha. Officials in the government, including the Home Minister, defended the conversion programmes.\\n\\nLinks between the BJP and the RSS grew stronger under Modi. The RSS provided organisational support to the BJP\\'s electoral campaigns, while the Modi administration appointed a number of individuals affiliated with the RSS to prominent government positions. In 2014, Yellapragada Sudershan Rao, who had previously been associated with the RSS, became the chairperson of the Indian Council of Historical Research (ICHR). Historians and former members of the ICHR, including those sympathetic to the BJP, questioned his credentials as a historian, and stated that the appointment was part of an agenda of cultural nationalism.The North East Delhi riots, which left more than 40 dead and hundreds injured, were triggered by protests against a citizenship law seen by many critics as anti-Muslim and part of Modi\\'s Hindu nationalist agenda. On 5 August 2020, Modi visited Ayodhya after the Supreme Court in 2019 ordered a contested land in Ayodhya to be handed over to a trust to build the Hindu temple and ordered the government to give alternate 5 acre land to Sunni Waqf Board for the purpose of building a mosque. He became the first prime minister to visit Ram Janmabhoomi and Hanuman Garhi.\\n\\n\\n=== Foreign policy ===\\n\\nForeign policy played a relatively small role in Modi\\'s election campaign, and did not feature prominently in the BJP\\'s election manifesto. Modi invited all the other leaders of SAARC countries to his swearing in ceremony as prime minister. He was the first Indian prime minister to do so.\\n\\nModi\\'s foreign policy, similarly to that of the preceding INC government, focused on improving economic ties, security, and regional relations. Modi continued Manmohan Singh\\'s policy of \"multi-alignment.\" The Modi administration tried to attract foreign investment in the Indian economy from several sources, especially in East Asia, with the use of slogans such as \"Make in India\" and \"Digital India\". The government also tried to improve relations with Islamic nations in the Middle East, such as Bahrain, Iran, Saudi Arabia, and the United Arab Emirates, as well as with Israel.\\nThe foreign relations of India with the USA also mended after Narendra Modi became the Prime Minister. During the run-up to the general election there was wide-ranging scepticism regarding future of the strategic bilateral relation under Modi\\'s premiership as in 2005 he was, while Chief Minister of Gujarat, denied a U.S. visa during the Bush administration for his poor human rights records. However sensing Modi\\'s inevitable victory well before the election, the US Ambassador Nancy Powell had reached out to him as part of greater rapprochement from the west. Moreover, following his 2014 election as the Prime Minister of India, President Obama congratulated him over the telephone and invited him to visit the US. The Modi government was successful in forging good foreign relations with the USA in the presidencies of both Barack Obama and Donald Trump.During the first few months after the election, Modi made trips to a number of different countries to further the goals of his policy, and attended the BRICS, ASEAN, and G20 summits. One of Modi\\'s first visits as prime minister was to Nepal, during which he promised a billion USD in aid. Modi also made several overtures to the United States, including multiple visits to that country. While this was described as an unexpected development, due to the US having previously denied Modi a travel visa over his role during the 2002 Gujarat riots, the visits were expected to strengthen diplomatic and trade relations between the two countries.In 2015, the Indian parliament ratified a land exchange deal with Bangladesh about the India–Bangladesh enclaves, which had been initiated by the government of Manmohan Singh. Modi\\'s administration gave renewed attention to India\\'s \"Look East Policy\", instituted in 1991. The policy was renamed the \"Act East Policy\", and involved directing Indian foreign policy towards East Asia and Southeast Asia. The government signed agreements to improve land connectivity with Myanmar, through the state of Manipur. This represented a break with India\\'s historic engagement with Myanmar, which prioritised border security over trade. China–India relations have deteriorated rapidly following the 2020 China–India skirmishes. Modi has pledged aid of $900 million to Afghanistan, visited the nation twice and been honoured with the nation\\'s highest civilian honour in 2016.\\n\\n\\n=== Defence policy ===\\n\\nIndia\\'s nominal military spending increased steadily under Modi. The military budget declined over Modi\\'s tenure both as a fraction of GDP and when adjusted for inflation. A substantial portion of the military budget was devoted to personnel costs, leading commentators to write that the budget was constraining Indian military modernisation.\\nThe BJP election manifesto had also promised to deal with illegal immigration into India in the Northeast, as well as to be more firm in its handling of insurgent groups. The Modi government issued a notification allowing Hindu, Sikh, and Buddhist illegal immigrants from Pakistan and Bangladesh to legalise their residency in India. The government described the measure as being taken for humanitarian reasons but it drew criticism from several Assamese organisations.The Modi administration negotiated a peace agreement with the largest faction of the National Socialist Council of Nagaland (NSCM), which was announced in August 2015. The Naga insurgency in northeast India had begun in the 1950s. The NSCM and the government had agreed to a ceasefire in 1997, but a peace accord had not previously been signed. In 2015 the government abrogated a 15-year ceasefire with the Khaplang faction of the NSCM (NSCM-K). The NSCM-K responded with a series of attacks, which killed 18 people. The Modi government carried out a raid across the border with Myanmar as a result, and labelled the NSCM-K a terrorist organisation.Modi promised to be \"tough on Pakistan\" during his election campaign, and repeatedly stated that Pakistan was an exporter of terrorism. On 29 September 2016, the Indian Army stated that it had conducted a surgical strike on terror launch pads in Azad Kashmir. The Indian media claimed that up to 50 terrorists and Pakistani soldiers had been killed in the strike. Pakistan initially denied that any strikes had taken place. Subsequent reports suggested that Indian claim about the scope of the strike and the number of casualties had been exaggerated, although cross-border strikes had been carried out. In February 2019 India carried out airstrikes in Pakistan against a supposed terrorist camp. Further military skirmishes followed, including cross-border shelling and the loss of an Indian aircraft.Following his victory in 2019 Lok Sabha elections, he focused more on Defence policies of India, especially against China and Pakistan. On 5 May 2020, Chinese and Indian troops engaged in aggressive melee, face-offs and skirmishes at locations along the Sino-Indian border, including near the disputed Pangong Lake in Ladakh and the Tibet Autonomous Region, and near the border between Sikkim and the Tibet Autonomous Region. Additional clashes also took place at locations in eastern Ladakh along the Line of Actual Control (LAC). After which there was start of skirmishes between the nations leading to many border clashes, responses and reactions from both sides. A series of talks were also held between the two by both military and diplomatic means for peace. The first border clash reported in 2021 was on 20 January, referred to as a minor border clash in Sikkim.Modi signed an agreement with Russian leader Vladimir Putin in December 2021 to extend military technical cooperation. The Modi government struck a deal with Russia, buying the S-400 missile system, an anti-missile striking system thereby constructing much stronger ties and relationship between the two nations. During the 2022 Russian invasion of Ukraine, India refused to condemn Russia\\'s invasion and stayed neutral, without opting to back both the countries. The Indian government\\'s \\'Operation Ganga\\' initiative sought to bring back Indians stranded in Ukraine during the war. More than 19,000 nationals were evacuated. This also involved assistance to those who have crossed over to the neighboring countries of Romania, Hungary, Poland, Moldova, Slovakia. Prime Minister Modi sent 4 special envoys headed by the union ministers Hardeep Singh Puri, Jyotiraditya Scindia, Kiren Rijiju and V. K. Singh to the neighboring nations of Ukraine to assist coordination efforts.\\n\\n\\n=== Environmental policy ===\\n\\nIn naming his cabinet, Modi renamed the \"Ministry of Environment and Forests\" the \"Ministry of Environment, Forests, and Climate Change.\" In the first budget of the government, the money allotted to this ministry was reduced by more than 50%. The new ministry also removed or diluted a number of laws related to environmental protection. These included no longer requiring clearance from the National Board for Wildlife for projects close to protected areas, and allowing certain projects to proceed before environmental clearance was received. The government also tried to reconstitute the Wildlife board such that it no longer had representatives from non-governmental organisations: however, this move was prevented by the Supreme Court.\\n\\nModi also relaxed or abolished a number of other environmental regulations, particularly those related to industrial activity. A government committee stated that the existing system only served to create corruption, and that the government should instead rely on the owners of industries to voluntarily inform the government about the pollution they were creating. Other changes included reducing ministry oversight on small mining projects, and no longer requiring approval from tribal councils for projects inside forested areas. In addition, Modi lifted a moratorium on new industrial activity in the most polluted areas in the countries. The changes were welcomed by businesspeople, but criticised by environmentalists.Under the UPA government that preceded Modi\\'s administration, field trials of Genetically Modified (GM) crops had essentially been put on hold, after protests from farmers fearing for their livelihoods. Under the Modi government these restrictions were gradually lifted. The government received some criticism for freezing the bank accounts of environmental group Greenpeace, citing financial irregularities, although a leaked government report said that the freeze had to do with Greenpeace\\'s opposition to GM crops.\\n\\n\\n==== Climate change ====\\nUpon asked by Assamese students in 2014, Modi downplayed climate change, saying \"Climate has not changed. We have changed. Our habits have changed. Our habits have got spoiled. Due to that, we have destroyed our entire environment.\" However, over the years he has been vocal for climate action, especially with proliferating clean energy. Modi in 2015 proposed the International Solar Alliance initiative, by means of which, India and France hope to achieve one trillion US dollars investment into solar energy by 2030. The Alliance has an understanding with the World Bank, an observer status granted by United Nations General Assembly and 106 singatory countries.He also proposed One Sun, One World, One Grid (OSOWOG) which is now merged into the United Kingdom\\'s Green Grids Initiative as part of the UK-India Virtual Summit in 2021. He explained the initiative as \"an idea whose time has come. If the world has to move to a clean and green future, these interconnected transnational grids are going to be critical solutions,”Holding developed countries responsible, Modi and his government have multiple times reiterated that India has negligible role in climate change historically. At the COP26 conference Modi announced that India would target carbon neutrality by 2070, and also expand its renewable energy capacity. Though the date of net zero is far behind that of China and the USA and India\\'s government wants to continue with the use of coal, Indian environmentalists and economists applauded the decision, describing it as a bold climate action. In the same event, he promised that India will\\n\\nbring its non-fossil energy capacity to 500 GW by 2030\\nbring its economy\\'s carbon intensity down to 45 per cent by 2030\\nfulfil 50 per cent of its energy requirement through renewable energy by 2030\\nreduce 1 billion tonnes of carbon emissions from the total projected emissions by 2030India has emerged as the only major economy to be on track to meet Paris Agreement goals. It has achieved 10% ethanol blending five months ahead of schedule. Out of promised 450 GW by 2030, it has achieved 150 GW through renewable energy and is hopeful of achieving 175 GW in 2022. He has promised that India will \"become the world\\'s biggest Green Hydrogen hub. We are answerable to future generations with our decision making.\"\\n\\n\\n=== Democratic backsliding ===\\nUnder Modi\\'s tenure, India has experienced democratic backsliding. According to one study, \"The BJP government incrementally but systemically attacked nearly all existing mechanisms that are in place to hold the political executive to account, either by ensuring that these mechanisms became subservient to the political executive or were captured by party loyalists.\" Scholars also point to how the Modi government has used state power to intimidate and stifle critics in the media and academia, thus undermining freedom of expression and alternative sources of information. There have been several reports of the Modi government to be as an authoritarian conservative government, even due to lack of good opposition.\\n\\n\\n== Electoral history ==\\n\\n\\n== Personal life and image ==\\n\\n\\n=== Personal life ===\\nIn accordance with Ghanchi tradition, Modi\\'s marriage was arranged by his parents when he was a child. He was engaged at age 13 to Jashodaben Modi, marrying her when he was 18. They spent little time together and grew apart when Modi began two years of travel, including visits to Hindu ashrams. Reportedly, their marriage was never consummated, and he kept it a secret because otherwise he could not have become a \\'pracharak\\' in the puritan Rashtriya Swayamsevak Sangh. Modi kept his marriage secret for most of his career. He acknowledged his wife for the first time when he filed his nomination for the 2014 general elections. Modi maintains a close relationship with his centenarian mother, Hiraben.\\n\\nA vegetarian and teetotaler, Modi has a frugal lifestyle and is a workaholic and introvert. A person named Badri Meena has been his cook since 2002. Modi\\'s 31 August 2012 post on Google Hangouts made him the first Indian politician to interact with citizens on a live chat. Modi has also been called a fashion-icon for his signature crisply ironed, half-sleeved kurta, as well as for a suit with his name embroidered repeatedly in the pinstripes that he wore during a state visit by US President Barack Obama, which drew public and media attention and criticism. Modi\\'s personality has been variously described by scholars and biographers as energetic, arrogant, and charismatic.He had published a Gujarati book titled Jyotipunj in 2008, containing profiles of various RSS leaders. The longest was of M. S. Golwalkar, under whose leadership the RSS expanded and whom Modi refers to as Pujniya Shri Guruji (\"Guru worthy of worship\"). According to The Economic Times, his intention was to explain the workings of the RSS to his readers and to reassure RSS members that he remained ideologically aligned with them. Modi authored eight other books, mostly containing short stories for children.The nomination of Modi for the prime ministership drew attention to his reputation as \"one of contemporary India\\'s most controversial and divisive politicians.\" During the 2014 election campaign the BJP projected an image of Modi as a strong, masculine leader, who would be able to take difficult decisions. Campaigns in which he has participated have focused on Modi as an individual, in a manner unusual for the BJP and RSS. Modi has relied upon his reputation as a politician able to bring about economic growth and \"development\". Nonetheless, his role in the 2002 Gujarat riots continues to attract criticism and controversy. Modi\\'s hardline Hindutva philosophy and the policies adopted by his government continue to draw criticism, and have been seen as evidence of a majoritarian and exclusionary social agenda.\\nIn March 2021, Modi received his first COVID-19 vaccine dose at the All India Institute of Medical Sciences, New Delhi.\\n\\n\\n=== Personal donations ===\\nPrime Minister\\'s Office and senior officials have said that Modi has made the following donations from his personal savings:\\n\\n₹225,000 (US$3,000) towards the initial corpus of the Prime Minister\\'s Citizen Assistance and Relief in Emergency Situations (PM-CARES) Fund.\\n₹2.1 million (US$28,000) from personal savings for educating daughters of state government officials when he was chief minister of Gujarat\\n₹13 million (US$170,000), prize money from Seoul Peace Prize, to Namami Gange Programme\\n₹2.1 million (US$28,000) to the corpus fund for the welfare of sanitation workers of Kumbh Mela\\n\\n\\n=== Approval ratings ===\\n\\nAs a Prime Minister, Modi has received consistently high approval ratings; at the end of his first year in office, he received an overall approval rating of 87% in a Pew Research poll, with 68% of people rating him \"very favorably\" and 93% approving of his government. His approval rating remained largely consistent at around 74% through his second year in office, according to a nationwide poll conducted by instaVaani. At the end of his second year in office, an updated Pew Research poll showed Modi continued to receive high overall approval ratings of 81%, with 57% of those polled rating him \"very favorably.\" At the end of his third year in office, a further Pew Research poll showed Modi with an overall approval rating of 88%, his highest yet, with 69% of people polled rating him \"very favorably.\" A poll conducted by The Times of India in May 2017 showed 77% of the respondents rated Modi as \"very good\" and \"good\". In early 2017, a survey from Pew Research Center showed Modi to be the most popular figure in Indian politics. In a weekly analysis by Morning Consult called the Global Leader Approval Rating Tracker, Modi had the highest net approval rating as of 22 December 2020 of all government leaders in the 13 countries being tracked.\\n\\n\\n== Awards and recognition ==\\nIn March 2012 and June 2014, Modi appeared on the cover of the Asian edition of Time Magazine, one of the few Indian politicians to have done so. He was awarded Indian of the Year by CNN-News18 (formally CNN-IBN) news network in 2014. In June 2015, Modi was featured on the cover of Time Magazine. In 2014, 2015, 2017, 2020 and 2021, he was named one of Time magazine\\'s 100 Most Influential People in the World. Forbes Magazine ranked him the 15th Most Powerful Person in the World in 2014 and the 9th Most Powerful Person in the World in 2015, 2016 and 2018. In 2015, Modi was ranked the 13th Most Influential Person in the World by Bloomberg Markets Magazine. Modi was ranked fifth on Fortune Magazine\\'s first annual list of the \"World\\'s Greatest Leaders\" in 2015. In 2017, Gallup International Association (GIA) conducted a poll and ranked Modi as third top leader of the world. In 2016, a wax statue of Modi was unveiled at Madame Tussauds wax museum in London.In 2015 he was named one of Time\\'s \"30 Most Influential People on the Internet\" as the second-most-followed politician on Twitter and Facebook. In 2018, he was the third most followed world leader on Twitter, and the most followed world leader on Facebook and Instagram. In October 2018, Modi received United Nations\\'s highest environmental award, the \\'Champions of the Earth\\', for policy leadership by \"pioneering work in championing\" the International Solar Alliance and \"new areas of levels of cooperation on environmental action\". He was conferred the 2018 Seoul Peace Prize in recognition of \"his dedication to improving international co-operation, raising global economic growth, accelerating the Human Development of the people of India by fostering economic growth and furthering the development of democracy through anti-corruption and social integration efforts\". He is the first Indian to win the award.Following his second swearing-in ceremony as Prime Minister of India, a picture of Modi was displayed on the facade of the ADNOC building in Abu Dhabi, United Arab Emirates. The Texas India Forum hosted a community event in honour of Modi on 22 September 2019 at the NRG Stadium in Houston, Texas. The event was attended by over 50,000 people and several American politicians including President Donald Trump, making it the largest gathering for an invited foreign leader visiting the United States other than the Pope. At the same event, Modi was presented with the Key to the City of Houston by Mayor Sylvester Turner. He was awarded the Global Goalkeeper Award on 24 September 2019 in New York City by the Bill & Melinda Gates Foundation in recognition for the Swachh Bharat Mission and \"the progress India has made in providing safe sanitation under his leadership\".In 2020, Modi was among eight world leaders awarded the parodic Ig Nobel Prize in Medical Education \"for using the COVID-19 viral pandemic to teach the world that politicians can have a more immediate effect on life and death than scientists and doctors can\". On 21 December 2020, President Donald Trump awarded Modi with the Legion of Merit for elevating the India–United States relations. The Legion of Merit was awarded to Modi along with Prime Minister of Australia Scott Morrison and former Prime Minister of Japan Shinzo Abe, the \"original architects\" of the QUAD.On 24 February 2021, the largest cricket stadium in the world at Ahmedabad was renamed Narendra Modi Stadium by the Gujarat Cricket Association.Modi is featured in TIME Magazine\\'s 100 most influential people of 2021 list, making it his fifth time after 2014, 2015, 2017, and 2020. TIME called him the third \"pivotal leader\" of independent India after Jawaharlal Nehru and Indira Gandhi who \"dominated the country\\'s politics like no one since them\".\\n\\n\\n=== State honours ===\\n\\n\\n=== Other honours ===\\n\\n\\n== In popular culture ==\\n\\nModi Kaka Ka Gaon, a 2017 Indian Hindi-language drama film by Tushar Amrish Goel is the first biopic on Modi, starring Vikas Mahante in the titular role it was made halfway into his first-term as the prime minister which is shown in the film. PM Narendra Modi, a 2019 Indian Hindi-language biographical drama film by Omung Kumar, starred Vivek Oberoi in the titular role and covers his rise to prime ministership.An Indian web series, Modi: Journey of a Common Man, based on the same premise released in May 2019 on Eros Now with Ashish Sharma portraying Modi. Hu Narender Modi Banva Mangu Chu is a 2018 Indian Gujarati-language drama film by Anil Naryani about the aspirations of a young boy who wants to become like Narendra Modi.7 RCR (7, Race Course Road), a 2014 Indian docudrama political television series which charts the political careers of prominent Indian politicians, covered Modi\\'s rise to the PM\\'s office in the episodes – \"Story of Narendra Modi from 1950 to 2001\", \"Story of Narendra Modi in Controversial Years from 2001 to 2013\", \"Truth Behind Brand Modi\", \"Election Journey of Narendra Modi to 7 RCR\", and \"Masterplan of Narendra Modi\\'s NDA Govt.\"; with Sangam Rai in the role of Modi.Other portrayals of Modi include by Rajit Kapur in the film Uri: The Surgical Strike (2019) and Vikram Gokhale in the web-television series Avrodh: The Siege Within (2020) both based on the 2016 Uri attack and the following Indian surgical strikes. Pratap Singh played a character based on Modi in Chand Bujh Gaya (2005) which is set in the backdrop of the Gujarat riots.Premiered on 12 August 2019, Modi appeared in an episode – \"Man vs. Wild with Bear Grylls and Prime Minister Modi\" – of Discovery Channel\\'s show Man vs Wild with the host Bear Grylls, becoming the second world leader after Barack Obama to appear in the reality show. In the show he trekked the jungles and talked about nature and wildlife conservation with Grylls. The episode was shot in Jim Corbett National Park, Uttarakhand and was broadcast in 180 countries along India. He has also appeared twice on the Indian television talk show Aap Ki Adalat before the 2009 and 2014 elections respectively.Along with hosting the Mann Ki Baat monthly radio programme, on All India Radio, he has also conducted Pariksha Pe Charcha – a competition/discussion for students and the issues they face in examinations.\\n\\n\\n== Bibliography ==\\n\\n\\n== See also ==\\nList of prime ministers of India\\nOpinion polling on the Narendra Modi premiership\\n\\n\\n== References ==\\n\\n\\n=== Notes ===\\n\\n\\n=== Citations ===\\n\\n\\n=== Further reading ===\\n\\n\\n== External links ==\\nOfficial website \\nProfile on Lok Sabha website\\nWorks by Narendra Modi at WorldCat Identities\\nNarendra Modi at DNA India\\nNarendra Modi collected news and commentary at The Guardian\\nNarendra Modi collected news and commentary at The New York Times\\nNarendra Modi at Curlie\\nNarendra Modi at IMDb\\nAppearances on C-SPAN\\n\\nTemplate:Authority control'"
      ]
     },
     "execution_count": 54,
     "metadata": {},
     "output_type": "execute_result"
    }
   ],
   "source": [
    "wikicontent"
   ]
  },
  {
   "cell_type": "code",
   "execution_count": 64,
   "id": "f8f47abd",
   "metadata": {},
   "outputs": [],
   "source": [
    "summary = summarize(wikicontent,ratio=.01)"
   ]
  },
  {
   "cell_type": "code",
   "execution_count": 65,
   "id": "1511592d",
   "metadata": {},
   "outputs": [
    {
     "data": {
      "text/plain": [
       "\"The RSS assigned him to the BJP in 1985 and he held several positions within the party hierarchy until 2001, rising to the rank of general secretary.Modi was appointed Chief Minister of Gujarat in 2001 due to Keshubhai Patel's failing health and poor public image following the earthquake in Bhuj.\\nWhile his policies as chief minister—credited with encouraging economic growth—have received praise, his administration has been criticised for failing to significantly improve health, poverty and education indices in the state.Modi led the BJP in the 2014 general election which gave the party a majority in the lower house of Indian parliament, the Lok Sabha, the first time for any single party since 1984.\\nAs Modi rose to prominence in India, the UK and the EU lifted their bans in October 2012 and March 2013, respectively, and after his election he was invited to Washington as the nation's prime minister.During the run-up to the 2007 Gujarat Legislative Assembly election and the 2009 Indian general election, the BJP intensified its rhetoric on terrorism.\\nIn July 2007 Modi completed 2,063 consecutive days as chief minister of Gujarat, making him the longest-serving holder of that post, and the BJP won 122 of 182 state-assembly seats in that year's election.\""
      ]
     },
     "execution_count": 65,
     "metadata": {},
     "output_type": "execute_result"
    }
   ],
   "source": [
    "summary"
   ]
  },
  {
   "cell_type": "code",
   "execution_count": null,
   "id": "0e17fe51",
   "metadata": {},
   "outputs": [],
   "source": []
  }
 ],
 "metadata": {
  "kernelspec": {
   "display_name": "Python 3 (ipykernel)",
   "language": "python",
   "name": "python3"
  },
  "language_info": {
   "codemirror_mode": {
    "name": "ipython",
    "version": 3
   },
   "file_extension": ".py",
   "mimetype": "text/x-python",
   "name": "python",
   "nbconvert_exporter": "python",
   "pygments_lexer": "ipython3",
   "version": "3.9.12"
  }
 },
 "nbformat": 4,
 "nbformat_minor": 5
}
